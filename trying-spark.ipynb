{
 "cells": [
  {
   "cell_type": "markdown",
   "id": "1f38bb02",
   "metadata": {
    "papermill": {
     "duration": 0.029067,
     "end_time": "2022-03-17T18:48:33.898855",
     "exception": false,
     "start_time": "2022-03-17T18:48:33.869788",
     "status": "completed"
    },
    "tags": []
   },
   "source": [
    "Trying Spark on this data.\n",
    "\n",
    "(1) \n",
    "https://www.kaggle.com/kkhandekar/apache-spark-beginner-tutorial\n",
    "\n",
    "(2) \n",
    "https://www.kaggle.com/tylerx/machine-learning-with-spark\n",
    "\n",
    "(3) \n",
    "https://www.kaggle.com/anninasimon/pyspark-basics-for-beginners-part-1\n",
    "\n",
    "https://www.kaggle.com/anninasimon/pyspark-basics-part-2\n",
    "\n",
    "(4)\n",
    "https://www.kaggle.com/nilaychauhan/pyspark-tutorial-for-beginners\n",
    "\n"
   ]
  },
  {
   "cell_type": "markdown",
   "id": "461434a5",
   "metadata": {
    "papermill": {
     "duration": 0.026843,
     "end_time": "2022-03-17T18:48:33.953254",
     "exception": false,
     "start_time": "2022-03-17T18:48:33.926411",
     "status": "completed"
    },
    "tags": []
   },
   "source": [
    "### Trying (4)"
   ]
  },
  {
   "cell_type": "code",
   "execution_count": 1,
   "id": "d971828b",
   "metadata": {
    "_cell_guid": "b1076dfc-b9ad-4769-8c92-a6c4dae69d19",
    "_uuid": "8f2839f25d086af736a60e9eeb907d3b93b6e0e5",
    "execution": {
     "iopub.execute_input": "2022-03-17T18:48:34.012162Z",
     "iopub.status.busy": "2022-03-17T18:48:34.010950Z",
     "iopub.status.idle": "2022-03-17T18:48:34.033042Z",
     "shell.execute_reply": "2022-03-17T18:48:34.033908Z"
    },
    "papermill": {
     "duration": 0.053891,
     "end_time": "2022-03-17T18:48:34.034309",
     "exception": false,
     "start_time": "2022-03-17T18:48:33.980418",
     "status": "completed"
    },
    "tags": []
   },
   "outputs": [
    {
     "name": "stdout",
     "output_type": "stream",
     "text": [
      "/kaggle/input/telecom-churn-datasets/churn-bigml-20.csv\n",
      "/kaggle/input/telecom-churn-datasets/churn-bigml-80.csv\n"
     ]
    }
   ],
   "source": [
    "# This Python 3 environment comes with many helpful analytics libraries installed\n",
    "# It is defined by the kaggle/python Docker image: https://github.com/kaggle/docker-python\n",
    "# For example, here's several helpful packages to load\n",
    "\n",
    "import numpy as np # linear algebra\n",
    "import pandas as pd # data processing, CSV file I/O (e.g. pd.read_csv)\n",
    "\n",
    "# Input data files are available in the read-only \"../input/\" directory\n",
    "# For example, running this (by clicking run or pressing Shift+Enter) will list all files under the input directory\n",
    "\n",
    "import os\n",
    "for dirname, _, filenames in os.walk('/kaggle/input'):\n",
    "    for filename in filenames:\n",
    "        print(os.path.join(dirname, filename))\n",
    "\n",
    "# You can write up to 20GB to the current directory (/kaggle/working/) that gets preserved as output when you create a version using \"Save & Run All\" \n",
    "# You can also write temporary files to /kaggle/temp/, but they won't be saved outside of the current session"
   ]
  },
  {
   "cell_type": "code",
   "execution_count": 2,
   "id": "77324245",
   "metadata": {
    "execution": {
     "iopub.execute_input": "2022-03-17T18:48:34.100195Z",
     "iopub.status.busy": "2022-03-17T18:48:34.099508Z",
     "iopub.status.idle": "2022-03-17T18:48:34.102237Z",
     "shell.execute_reply": "2022-03-17T18:48:34.101700Z",
     "shell.execute_reply.started": "2022-03-17T18:19:40.801851Z"
    },
    "papermill": {
     "duration": 0.038232,
     "end_time": "2022-03-17T18:48:34.102374",
     "exception": false,
     "start_time": "2022-03-17T18:48:34.064142",
     "status": "completed"
    },
    "tags": []
   },
   "outputs": [],
   "source": [
    "%matplotlib inline\n",
    "import matplotlib.pyplot as plt\n",
    "\n",
    "import datetime\n"
   ]
  },
  {
   "cell_type": "code",
   "execution_count": 3,
   "id": "43b3402f",
   "metadata": {
    "execution": {
     "iopub.execute_input": "2022-03-17T18:48:34.163627Z",
     "iopub.status.busy": "2022-03-17T18:48:34.162812Z",
     "iopub.status.idle": "2022-03-17T18:49:20.918454Z",
     "shell.execute_reply": "2022-03-17T18:49:20.917830Z",
     "shell.execute_reply.started": "2022-03-17T18:02:41.139163Z"
    },
    "papermill": {
     "duration": 46.787839,
     "end_time": "2022-03-17T18:49:20.918622",
     "exception": false,
     "start_time": "2022-03-17T18:48:34.130783",
     "status": "completed"
    },
    "tags": []
   },
   "outputs": [
    {
     "name": "stdout",
     "output_type": "stream",
     "text": [
      "Collecting pyspark\r\n",
      "  Downloading pyspark-3.2.1.tar.gz (281.4 MB)\r\n",
      "     |████████████████████████████████| 281.4 MB 35 kB/s               \r\n",
      "\u001b[?25h  Preparing metadata (setup.py) ... \u001b[?25l-\b \b\\\b \bdone\r\n",
      "\u001b[?25hRequirement already satisfied: py4j==0.10.9.3 in /opt/conda/lib/python3.7/site-packages (from pyspark) (0.10.9.3)\r\n",
      "Building wheels for collected packages: pyspark\r\n",
      "  Building wheel for pyspark (setup.py) ... \u001b[?25l-\b \b\\\b \b|\b \b/\b \b-\b \b\\\b \b|\b \b/\b \b-\b \b\\\b \b|\b \b/\b \b-\b \b\\\b \b|\b \b/\b \b-\b \b\\\b \b|\b \b/\b \b-\b \b\\\b \b|\b \b/\b \b-\b \b\\\b \b|\b \b/\b \b-\b \b\\\b \b|\b \b/\b \b-\b \b\\\b \b|\b \b/\b \b-\b \b\\\b \b|\b \b/\b \b-\b \b\\\b \b|\b \b/\b \b-\b \b\\\b \b|\b \b/\b \b-\b \b\\\b \b|\b \b/\b \b-\b \b\\\b \b|\b \b/\b \b-\b \b\\\b \bdone\r\n",
      "\u001b[?25h  Created wheel for pyspark: filename=pyspark-3.2.1-py2.py3-none-any.whl size=281853642 sha256=480736a49fe10d92afb41984c90afe99ec611166521c9fcb1e619ec9a3df8d27\r\n",
      "  Stored in directory: /root/.cache/pip/wheels/9f/f5/07/7cd8017084dce4e93e84e92efd1e1d5334db05f2e83bcef74f\r\n",
      "Successfully built pyspark\r\n",
      "Installing collected packages: pyspark\r\n",
      "Successfully installed pyspark-3.2.1\r\n",
      "\u001b[33mWARNING: Running pip as the 'root' user can result in broken permissions and conflicting behaviour with the system package manager. It is recommended to use a virtual environment instead: https://pip.pypa.io/warnings/venv\u001b[0m\r\n"
     ]
    }
   ],
   "source": [
    "#install Apache Spark\n",
    "!pip install pyspark"
   ]
  },
  {
   "cell_type": "code",
   "execution_count": 4,
   "id": "ae2f18db",
   "metadata": {
    "execution": {
     "iopub.execute_input": "2022-03-17T18:49:21.242366Z",
     "iopub.status.busy": "2022-03-17T18:49:21.241640Z",
     "iopub.status.idle": "2022-03-17T18:49:22.544694Z",
     "shell.execute_reply": "2022-03-17T18:49:22.544033Z",
     "shell.execute_reply.started": "2022-03-17T18:12:45.572695Z"
    },
    "papermill": {
     "duration": 1.468642,
     "end_time": "2022-03-17T18:49:22.544859",
     "exception": false,
     "start_time": "2022-03-17T18:49:21.076217",
     "status": "completed"
    },
    "tags": []
   },
   "outputs": [],
   "source": [
    "#Apache Spark Libraries\n",
    "import pyspark\n",
    "from pyspark import SparkConf\n",
    "from pyspark.sql import SparkSession\n",
    "\n",
    "#Apache Spark ML CLassifier Libraries\n",
    "from pyspark.ml.classification import DecisionTreeClassifier,RandomForestClassifier,NaiveBayes\n",
    "\n",
    "\n",
    "#Apache Spark Evaluation Library\n",
    "from pyspark.ml.evaluation import MulticlassClassificationEvaluator\n",
    "\n",
    "#Apache Spark Features libraries\n",
    "from pyspark.ml.feature import StandardScaler,StringIndexer, VectorAssembler, VectorIndexer, OneHotEncoder\n",
    "\n",
    "#Apache Spark Pipelin Library\n",
    "from pyspark.ml import Pipeline\n",
    "\n",
    "# Apache Spark `DenseVector`\n",
    "from pyspark.ml.linalg import DenseVector\n",
    "\n",
    "#Data Split Libraries\n",
    "import sklearn\n",
    "from sklearn.model_selection import train_test_split\n",
    "\n",
    "\n",
    "#Tabulating Data\n",
    "from tabulate import tabulate\n",
    "\n",
    "#Garbage\n",
    "import gc"
   ]
  },
  {
   "cell_type": "code",
   "execution_count": 5,
   "id": "92278bb8",
   "metadata": {
    "execution": {
     "iopub.execute_input": "2022-03-17T18:49:22.854409Z",
     "iopub.status.busy": "2022-03-17T18:49:22.853304Z",
     "iopub.status.idle": "2022-03-17T18:49:23.914964Z",
     "shell.execute_reply": "2022-03-17T18:49:23.914354Z",
     "shell.execute_reply.started": "2022-03-17T18:06:05.313828Z"
    },
    "papermill": {
     "duration": 1.219844,
     "end_time": "2022-03-17T18:49:23.915108",
     "exception": false,
     "start_time": "2022-03-17T18:49:22.695264",
     "status": "completed"
    },
    "tags": []
   },
   "outputs": [
    {
     "name": "stdout",
     "output_type": "stream",
     "text": [
      "openjdk version \"11.0.13\" 2021-10-19\r\n",
      "OpenJDK Runtime Environment (build 11.0.13+8-Ubuntu-0ubuntu1.20.04)\r\n",
      "OpenJDK 64-Bit Server VM (build 11.0.13+8-Ubuntu-0ubuntu1.20.04, mixed mode, sharing)\r\n"
     ]
    }
   ],
   "source": [
    "!java -version"
   ]
  },
  {
   "cell_type": "code",
   "execution_count": 6,
   "id": "5db55276",
   "metadata": {
    "execution": {
     "iopub.execute_input": "2022-03-17T18:49:24.227928Z",
     "iopub.status.busy": "2022-03-17T18:49:24.227270Z",
     "iopub.status.idle": "2022-03-17T18:49:29.333396Z",
     "shell.execute_reply": "2022-03-17T18:49:29.332798Z",
     "shell.execute_reply.started": "2022-03-17T18:03:59.544614Z"
    },
    "papermill": {
     "duration": 5.264283,
     "end_time": "2022-03-17T18:49:29.333549",
     "exception": false,
     "start_time": "2022-03-17T18:49:24.069266",
     "status": "completed"
    },
    "tags": []
   },
   "outputs": [
    {
     "name": "stderr",
     "output_type": "stream",
     "text": [
      "WARNING: An illegal reflective access operation has occurred\n",
      "WARNING: Illegal reflective access by org.apache.spark.unsafe.Platform (file:/opt/conda/lib/python3.7/site-packages/pyspark/jars/spark-unsafe_2.12-3.2.1.jar) to constructor java.nio.DirectByteBuffer(long,int)\n",
      "WARNING: Please consider reporting this to the maintainers of org.apache.spark.unsafe.Platform\n",
      "WARNING: Use --illegal-access=warn to enable warnings of further illegal reflective access operations\n",
      "WARNING: All illegal access operations will be denied in a future release\n",
      "Using Spark's default log4j profile: org/apache/spark/log4j-defaults.properties\n",
      "Setting default log level to \"WARN\".\n",
      "To adjust logging level use sc.setLogLevel(newLevel). For SparkR, use setLogLevel(newLevel).\n",
      "22/03/17 18:49:27 WARN NativeCodeLoader: Unable to load native-hadoop library for your platform... using builtin-java classes where applicable\n"
     ]
    }
   ],
   "source": [
    "sc = pyspark.SparkContext(appName=\"intro_to_spark\")"
   ]
  },
  {
   "cell_type": "code",
   "execution_count": 7,
   "id": "fe3befd4",
   "metadata": {
    "execution": {
     "iopub.execute_input": "2022-03-17T18:49:29.642444Z",
     "iopub.status.busy": "2022-03-17T18:49:29.641769Z",
     "iopub.status.idle": "2022-03-17T18:49:30.000145Z",
     "shell.execute_reply": "2022-03-17T18:49:29.999409Z",
     "shell.execute_reply.started": "2022-03-17T18:07:04.360004Z"
    },
    "papermill": {
     "duration": 0.516627,
     "end_time": "2022-03-17T18:49:30.000292",
     "exception": false,
     "start_time": "2022-03-17T18:49:29.483665",
     "status": "completed"
    },
    "tags": []
   },
   "outputs": [],
   "source": [
    "log_of_songs = [\n",
    "        \"Despacito\",\n",
    "        \"Nice for what\",\n",
    "        \"No tears left to cry\",\n",
    "        \"Despacito\",\n",
    "        \"Havana\",\n",
    "        \"In my feelings\",\n",
    "        \"Nice for what\",\n",
    "        \"despacito\",\n",
    "        \"All the stars\"\n",
    "]\n",
    "\n",
    "# parallelize the log_of_songs to use with Spark\n",
    "distributed_song_log = sc.parallelize(log_of_songs)"
   ]
  },
  {
   "cell_type": "code",
   "execution_count": 8,
   "id": "42a713c4",
   "metadata": {
    "execution": {
     "iopub.execute_input": "2022-03-17T18:49:30.310661Z",
     "iopub.status.busy": "2022-03-17T18:49:30.306675Z",
     "iopub.status.idle": "2022-03-17T18:49:30.316628Z",
     "shell.execute_reply": "2022-03-17T18:49:30.317256Z",
     "shell.execute_reply.started": "2022-03-17T18:08:05.559748Z"
    },
    "papermill": {
     "duration": 0.165052,
     "end_time": "2022-03-17T18:49:30.317431",
     "exception": false,
     "start_time": "2022-03-17T18:49:30.152379",
     "status": "completed"
    },
    "tags": []
   },
   "outputs": [
    {
     "data": {
      "text/plain": [
       "ParallelCollectionRDD[0] at readRDDFromFile at PythonRDD.scala:274"
      ]
     },
     "execution_count": 8,
     "metadata": {},
     "output_type": "execute_result"
    }
   ],
   "source": [
    "distributed_song_log"
   ]
  },
  {
   "cell_type": "code",
   "execution_count": 9,
   "id": "e6200ce5",
   "metadata": {
    "execution": {
     "iopub.execute_input": "2022-03-17T18:49:30.634956Z",
     "iopub.status.busy": "2022-03-17T18:49:30.634070Z",
     "iopub.status.idle": "2022-03-17T18:49:30.638610Z",
     "shell.execute_reply": "2022-03-17T18:49:30.638126Z",
     "shell.execute_reply.started": "2022-03-17T18:09:55.086523Z"
    },
    "papermill": {
     "duration": 0.170245,
     "end_time": "2022-03-17T18:49:30.638750",
     "exception": false,
     "start_time": "2022-03-17T18:49:30.468505",
     "status": "completed"
    },
    "tags": []
   },
   "outputs": [
    {
     "data": {
      "text/plain": [
       "ParallelCollectionRDD[0] at readRDDFromFile at PythonRDD.scala:274"
      ]
     },
     "execution_count": 9,
     "metadata": {},
     "output_type": "execute_result"
    }
   ],
   "source": [
    "distributed_song_log"
   ]
  },
  {
   "cell_type": "code",
   "execution_count": 10,
   "id": "aa6f087c",
   "metadata": {
    "execution": {
     "iopub.execute_input": "2022-03-17T18:49:30.948066Z",
     "iopub.status.busy": "2022-03-17T18:49:30.947047Z",
     "iopub.status.idle": "2022-03-17T18:49:31.691575Z",
     "shell.execute_reply": "2022-03-17T18:49:31.692127Z",
     "shell.execute_reply.started": "2022-03-17T18:09:43.039657Z"
    },
    "papermill": {
     "duration": 0.900694,
     "end_time": "2022-03-17T18:49:31.692314",
     "exception": false,
     "start_time": "2022-03-17T18:49:30.791620",
     "status": "completed"
    },
    "tags": []
   },
   "outputs": [
    {
     "name": "stderr",
     "output_type": "stream",
     "text": [
      "                                                                                \r"
     ]
    },
    {
     "data": {
      "text/plain": [
       "['Despacito',\n",
       " 'Nice for what',\n",
       " 'No tears left to cry',\n",
       " 'Despacito',\n",
       " 'Havana',\n",
       " 'In my feelings',\n",
       " 'Nice for what',\n",
       " 'despacito',\n",
       " 'All the stars']"
      ]
     },
     "execution_count": 10,
     "metadata": {},
     "output_type": "execute_result"
    }
   ],
   "source": [
    "distributed_song_log.collect()"
   ]
  },
  {
   "cell_type": "code",
   "execution_count": 11,
   "id": "92c78bbe",
   "metadata": {
    "execution": {
     "iopub.execute_input": "2022-03-17T18:49:32.005010Z",
     "iopub.status.busy": "2022-03-17T18:49:32.003749Z",
     "iopub.status.idle": "2022-03-17T18:49:32.005880Z",
     "shell.execute_reply": "2022-03-17T18:49:32.006509Z",
     "shell.execute_reply.started": "2022-03-17T18:07:16.897415Z"
    },
    "papermill": {
     "duration": 0.160399,
     "end_time": "2022-03-17T18:49:32.006686",
     "exception": false,
     "start_time": "2022-03-17T18:49:31.846287",
     "status": "completed"
    },
    "tags": []
   },
   "outputs": [],
   "source": [
    "def convert_song_to_lowercase(song):\n",
    "    return song.lower()"
   ]
  },
  {
   "cell_type": "code",
   "execution_count": 12,
   "id": "01067f9a",
   "metadata": {
    "execution": {
     "iopub.execute_input": "2022-03-17T18:49:32.316444Z",
     "iopub.status.busy": "2022-03-17T18:49:32.315474Z",
     "iopub.status.idle": "2022-03-17T18:49:33.128181Z",
     "shell.execute_reply": "2022-03-17T18:49:33.129017Z",
     "shell.execute_reply.started": "2022-03-17T18:07:37.214025Z"
    },
    "papermill": {
     "duration": 0.968862,
     "end_time": "2022-03-17T18:49:33.129258",
     "exception": false,
     "start_time": "2022-03-17T18:49:32.160396",
     "status": "completed"
    },
    "tags": []
   },
   "outputs": [
    {
     "name": "stderr",
     "output_type": "stream",
     "text": [
      "                                                                                \r"
     ]
    },
    {
     "data": {
      "text/plain": [
       "['despacito',\n",
       " 'nice for what',\n",
       " 'no tears left to cry',\n",
       " 'despacito',\n",
       " 'havana',\n",
       " 'in my feelings',\n",
       " 'nice for what',\n",
       " 'despacito',\n",
       " 'all the stars']"
      ]
     },
     "execution_count": 12,
     "metadata": {},
     "output_type": "execute_result"
    }
   ],
   "source": [
    "distributed_song_log.map(convert_song_to_lowercase).collect()"
   ]
  },
  {
   "cell_type": "code",
   "execution_count": 13,
   "id": "dd9f31e8",
   "metadata": {
    "execution": {
     "iopub.execute_input": "2022-03-17T18:49:33.517432Z",
     "iopub.status.busy": "2022-03-17T18:49:33.516667Z",
     "iopub.status.idle": "2022-03-17T18:49:34.848134Z",
     "shell.execute_reply": "2022-03-17T18:49:34.847323Z",
     "shell.execute_reply.started": "2022-03-17T18:12:57.483966Z"
    },
    "papermill": {
     "duration": 1.50291,
     "end_time": "2022-03-17T18:49:34.848303",
     "exception": false,
     "start_time": "2022-03-17T18:49:33.345393",
     "status": "completed"
    },
    "tags": []
   },
   "outputs": [],
   "source": [
    "spark = SparkSession \\\n",
    "    .builder \\\n",
    "    .appName(\"intro_to_spark\") \\\n",
    "    .getOrCreate()"
   ]
  },
  {
   "cell_type": "code",
   "execution_count": 14,
   "id": "35c5af67",
   "metadata": {
    "execution": {
     "iopub.execute_input": "2022-03-17T18:49:35.166055Z",
     "iopub.status.busy": "2022-03-17T18:49:35.165331Z",
     "iopub.status.idle": "2022-03-17T18:49:35.201226Z",
     "shell.execute_reply": "2022-03-17T18:49:35.201857Z",
     "shell.execute_reply.started": "2022-03-17T18:13:22.830815Z"
    },
    "papermill": {
     "duration": 0.198151,
     "end_time": "2022-03-17T18:49:35.202055",
     "exception": false,
     "start_time": "2022-03-17T18:49:35.003904",
     "status": "completed"
    },
    "tags": []
   },
   "outputs": [
    {
     "data": {
      "text/plain": [
       "[('spark.app.id', 'local-1647542968734'),\n",
       " ('spark.driver.port', '44035'),\n",
       " ('spark.app.name', 'intro_to_spark'),\n",
       " ('spark.rdd.compress', 'True'),\n",
       " ('spark.serializer.objectStreamReset', '100'),\n",
       " ('spark.master', 'local[*]'),\n",
       " ('spark.submit.pyFiles', ''),\n",
       " ('spark.executor.id', 'driver'),\n",
       " ('spark.app.startTime', '1647542966880'),\n",
       " ('spark.submit.deployMode', 'client'),\n",
       " ('spark.driver.host', '2aba1b7764c6'),\n",
       " ('spark.sql.warehouse.dir', 'file:/kaggle/working/spark-warehouse'),\n",
       " ('spark.ui.showConsoleProgress', 'true')]"
      ]
     },
     "execution_count": 14,
     "metadata": {},
     "output_type": "execute_result"
    }
   ],
   "source": [
    "spark.sparkContext.getConf().getAll()"
   ]
  },
  {
   "cell_type": "code",
   "execution_count": 15,
   "id": "16d15654",
   "metadata": {
    "execution": {
     "iopub.execute_input": "2022-03-17T18:49:35.513864Z",
     "iopub.status.busy": "2022-03-17T18:49:35.513260Z",
     "iopub.status.idle": "2022-03-17T18:49:35.524110Z",
     "shell.execute_reply": "2022-03-17T18:49:35.524700Z",
     "shell.execute_reply.started": "2022-03-17T18:13:45.459113Z"
    },
    "papermill": {
     "duration": 0.168324,
     "end_time": "2022-03-17T18:49:35.524870",
     "exception": false,
     "start_time": "2022-03-17T18:49:35.356546",
     "status": "completed"
    },
    "tags": []
   },
   "outputs": [
    {
     "data": {
      "text/html": [
       "\n",
       "            <div>\n",
       "                <p><b>SparkSession - in-memory</b></p>\n",
       "                \n",
       "        <div>\n",
       "            <p><b>SparkContext</b></p>\n",
       "\n",
       "            <p><a href=\"http://2aba1b7764c6:4040\">Spark UI</a></p>\n",
       "\n",
       "            <dl>\n",
       "              <dt>Version</dt>\n",
       "                <dd><code>v3.2.1</code></dd>\n",
       "              <dt>Master</dt>\n",
       "                <dd><code>local[*]</code></dd>\n",
       "              <dt>AppName</dt>\n",
       "                <dd><code>intro_to_spark</code></dd>\n",
       "            </dl>\n",
       "        </div>\n",
       "        \n",
       "            </div>\n",
       "        "
      ],
      "text/plain": [
       "<pyspark.sql.session.SparkSession at 0x7ff867fdfbd0>"
      ]
     },
     "execution_count": 15,
     "metadata": {},
     "output_type": "execute_result"
    }
   ],
   "source": [
    "spark"
   ]
  },
  {
   "cell_type": "code",
   "execution_count": 16,
   "id": "26a77b90",
   "metadata": {
    "execution": {
     "iopub.execute_input": "2022-03-17T18:49:35.842822Z",
     "iopub.status.busy": "2022-03-17T18:49:35.842148Z",
     "iopub.status.idle": "2022-03-17T18:49:39.864995Z",
     "shell.execute_reply": "2022-03-17T18:49:39.863410Z",
     "shell.execute_reply.started": "2022-03-17T18:15:27.179327Z"
    },
    "papermill": {
     "duration": 4.185758,
     "end_time": "2022-03-17T18:49:39.865225",
     "exception": false,
     "start_time": "2022-03-17T18:49:35.679467",
     "status": "completed"
    },
    "tags": []
   },
   "outputs": [],
   "source": [
    "path = \"../input/telecom-churn-datasets/churn-bigml-80.csv\"\n",
    "data = spark.read.csv(path)"
   ]
  },
  {
   "cell_type": "code",
   "execution_count": 17,
   "id": "5c3d8e6b",
   "metadata": {
    "execution": {
     "iopub.execute_input": "2022-03-17T18:49:40.196471Z",
     "iopub.status.busy": "2022-03-17T18:49:40.195504Z",
     "iopub.status.idle": "2022-03-17T18:49:40.208579Z",
     "shell.execute_reply": "2022-03-17T18:49:40.209132Z",
     "shell.execute_reply.started": "2022-03-17T18:15:52.336631Z"
    },
    "papermill": {
     "duration": 0.17461,
     "end_time": "2022-03-17T18:49:40.209314",
     "exception": false,
     "start_time": "2022-03-17T18:49:40.034704",
     "status": "completed"
    },
    "tags": []
   },
   "outputs": [
    {
     "name": "stdout",
     "output_type": "stream",
     "text": [
      "root\n",
      " |-- _c0: string (nullable = true)\n",
      " |-- _c1: string (nullable = true)\n",
      " |-- _c2: string (nullable = true)\n",
      " |-- _c3: string (nullable = true)\n",
      " |-- _c4: string (nullable = true)\n",
      " |-- _c5: string (nullable = true)\n",
      " |-- _c6: string (nullable = true)\n",
      " |-- _c7: string (nullable = true)\n",
      " |-- _c8: string (nullable = true)\n",
      " |-- _c9: string (nullable = true)\n",
      " |-- _c10: string (nullable = true)\n",
      " |-- _c11: string (nullable = true)\n",
      " |-- _c12: string (nullable = true)\n",
      " |-- _c13: string (nullable = true)\n",
      " |-- _c14: string (nullable = true)\n",
      " |-- _c15: string (nullable = true)\n",
      " |-- _c16: string (nullable = true)\n",
      " |-- _c17: string (nullable = true)\n",
      " |-- _c18: string (nullable = true)\n",
      " |-- _c19: string (nullable = true)\n",
      "\n"
     ]
    }
   ],
   "source": [
    "data.printSchema()"
   ]
  },
  {
   "cell_type": "code",
   "execution_count": 18,
   "id": "d8cd719a",
   "metadata": {
    "execution": {
     "iopub.execute_input": "2022-03-17T18:49:40.528322Z",
     "iopub.status.busy": "2022-03-17T18:49:40.527452Z",
     "iopub.status.idle": "2022-03-17T18:49:44.012266Z",
     "shell.execute_reply": "2022-03-17T18:49:44.011430Z",
     "shell.execute_reply.started": "2022-03-17T18:16:03.859397Z"
    },
    "papermill": {
     "duration": 3.644416,
     "end_time": "2022-03-17T18:49:44.012489",
     "exception": false,
     "start_time": "2022-03-17T18:49:40.368073",
     "status": "completed"
    },
    "tags": []
   },
   "outputs": [
    {
     "name": "stderr",
     "output_type": "stream",
     "text": [
      "                                                                                \r"
     ]
    },
    {
     "data": {
      "text/plain": [
       "DataFrame[summary: string, _c0: string, _c1: string, _c2: string, _c3: string, _c4: string, _c5: string, _c6: string, _c7: string, _c8: string, _c9: string, _c10: string, _c11: string, _c12: string, _c13: string, _c14: string, _c15: string, _c16: string, _c17: string, _c18: string, _c19: string]"
      ]
     },
     "execution_count": 18,
     "metadata": {},
     "output_type": "execute_result"
    }
   ],
   "source": [
    "data.describe()"
   ]
  },
  {
   "cell_type": "code",
   "execution_count": 19,
   "id": "b34c3fe7",
   "metadata": {
    "execution": {
     "iopub.execute_input": "2022-03-17T18:49:44.424135Z",
     "iopub.status.busy": "2022-03-17T18:49:44.423130Z",
     "iopub.status.idle": "2022-03-17T18:49:44.633473Z",
     "shell.execute_reply": "2022-03-17T18:49:44.632357Z",
     "shell.execute_reply.started": "2022-03-17T18:16:14.305270Z"
    },
    "papermill": {
     "duration": 0.379713,
     "end_time": "2022-03-17T18:49:44.633693",
     "exception": false,
     "start_time": "2022-03-17T18:49:44.253980",
     "status": "completed"
    },
    "tags": []
   },
   "outputs": [
    {
     "name": "stdout",
     "output_type": "stream",
     "text": [
      "+-----+--------------+---------+------------------+---------------+--------------------+-----------------+---------------+----------------+-----------------+---------------+----------------+-------------------+-----------------+------------------+------------------+----------------+-----------------+--------------------+-----+\n",
      "|  _c0|           _c1|      _c2|               _c3|            _c4|                 _c5|              _c6|            _c7|             _c8|              _c9|           _c10|            _c11|               _c12|             _c13|              _c14|              _c15|            _c16|             _c17|                _c18| _c19|\n",
      "+-----+--------------+---------+------------------+---------------+--------------------+-----------------+---------------+----------------+-----------------+---------------+----------------+-------------------+-----------------+------------------+------------------+----------------+-----------------+--------------------+-----+\n",
      "|State|Account length|Area code|International plan|Voice mail plan|Number vmail mess...|Total day minutes|Total day calls|Total day charge|Total eve minutes|Total eve calls|Total eve charge|Total night minutes|Total night calls|Total night charge|Total intl minutes|Total intl calls|Total intl charge|Customer service ...|Churn|\n",
      "+-----+--------------+---------+------------------+---------------+--------------------+-----------------+---------------+----------------+-----------------+---------------+----------------+-------------------+-----------------+------------------+------------------+----------------+-----------------+--------------------+-----+\n",
      "only showing top 1 row\n",
      "\n"
     ]
    }
   ],
   "source": [
    "data.show(n=1)"
   ]
  },
  {
   "cell_type": "code",
   "execution_count": 20,
   "id": "e74b3ecc",
   "metadata": {
    "execution": {
     "iopub.execute_input": "2022-03-17T18:49:45.026915Z",
     "iopub.status.busy": "2022-03-17T18:49:45.025854Z",
     "iopub.status.idle": "2022-03-17T18:49:45.152920Z",
     "shell.execute_reply": "2022-03-17T18:49:45.151984Z",
     "shell.execute_reply.started": "2022-03-17T18:16:24.404710Z"
    },
    "papermill": {
     "duration": 0.29152,
     "end_time": "2022-03-17T18:49:45.153142",
     "exception": false,
     "start_time": "2022-03-17T18:49:44.861622",
     "status": "completed"
    },
    "tags": []
   },
   "outputs": [
    {
     "data": {
      "text/plain": [
       "[Row(_c0='State', _c1='Account length', _c2='Area code', _c3='International plan', _c4='Voice mail plan', _c5='Number vmail messages', _c6='Total day minutes', _c7='Total day calls', _c8='Total day charge', _c9='Total eve minutes', _c10='Total eve calls', _c11='Total eve charge', _c12='Total night minutes', _c13='Total night calls', _c14='Total night charge', _c15='Total intl minutes', _c16='Total intl calls', _c17='Total intl charge', _c18='Customer service calls', _c19='Churn'),\n",
       " Row(_c0='KS', _c1='128', _c2='415', _c3='No', _c4='Yes', _c5='25', _c6='265.1', _c7='110', _c8='45.07', _c9='197.4', _c10='99', _c11='16.78', _c12='244.7', _c13='91', _c14='11.01', _c15='10.0', _c16='3', _c17='2.7', _c18='1', _c19='False'),\n",
       " Row(_c0='OH', _c1='107', _c2='415', _c3='No', _c4='Yes', _c5='26', _c6='161.6', _c7='123', _c8='27.47', _c9='195.5', _c10='103', _c11='16.62', _c12='254.4', _c13='103', _c14='11.45', _c15='13.7', _c16='3', _c17='3.7', _c18='1', _c19='False'),\n",
       " Row(_c0='NJ', _c1='137', _c2='415', _c3='No', _c4='No', _c5='0', _c6='243.4', _c7='114', _c8='41.38', _c9='121.2', _c10='110', _c11='10.3', _c12='162.6', _c13='104', _c14='7.32', _c15='12.2', _c16='5', _c17='3.29', _c18='0', _c19='False'),\n",
       " Row(_c0='OH', _c1='84', _c2='408', _c3='Yes', _c4='No', _c5='0', _c6='299.4', _c7='71', _c8='50.9', _c9='61.9', _c10='88', _c11='5.26', _c12='196.9', _c13='89', _c14='8.86', _c15='6.6', _c16='7', _c17='1.78', _c18='2', _c19='False')]"
      ]
     },
     "execution_count": 20,
     "metadata": {},
     "output_type": "execute_result"
    }
   ],
   "source": [
    "data.take(5)"
   ]
  },
  {
   "cell_type": "code",
   "execution_count": 21,
   "id": "21f8d93c",
   "metadata": {
    "execution": {
     "iopub.execute_input": "2022-03-17T18:49:45.552911Z",
     "iopub.status.busy": "2022-03-17T18:49:45.552260Z",
     "iopub.status.idle": "2022-03-17T18:49:45.706339Z",
     "shell.execute_reply": "2022-03-17T18:49:45.705496Z",
     "shell.execute_reply.started": "2022-03-17T18:17:53.947292Z"
    },
    "papermill": {
     "duration": 0.320323,
     "end_time": "2022-03-17T18:49:45.706571",
     "exception": false,
     "start_time": "2022-03-17T18:49:45.386248",
     "status": "completed"
    },
    "tags": []
   },
   "outputs": [
    {
     "name": "stdout",
     "output_type": "stream",
     "text": [
      "+-----+\n",
      "|  _c0|\n",
      "+-----+\n",
      "|State|\n",
      "|   KS|\n",
      "|   OH|\n",
      "|   NJ|\n",
      "|   OH|\n",
      "|   OK|\n",
      "|   AL|\n",
      "|   MA|\n",
      "|   MO|\n",
      "|   WV|\n",
      "|   RI|\n",
      "|   IA|\n",
      "|   MT|\n",
      "|   IA|\n",
      "|   ID|\n",
      "|   VT|\n",
      "|   VA|\n",
      "|   TX|\n",
      "|   FL|\n",
      "|   CO|\n",
      "+-----+\n",
      "only showing top 20 rows\n",
      "\n"
     ]
    }
   ],
   "source": [
    "data.select('_c0').show()"
   ]
  },
  {
   "cell_type": "code",
   "execution_count": 22,
   "id": "5f0339eb",
   "metadata": {
    "execution": {
     "iopub.execute_input": "2022-03-17T18:49:46.142483Z",
     "iopub.status.busy": "2022-03-17T18:49:46.141497Z",
     "iopub.status.idle": "2022-03-17T18:49:46.143452Z",
     "shell.execute_reply": "2022-03-17T18:49:46.144179Z",
     "shell.execute_reply.started": "2022-03-17T18:19:48.490805Z"
    },
    "papermill": {
     "duration": 0.170622,
     "end_time": "2022-03-17T18:49:46.144407",
     "exception": false,
     "start_time": "2022-03-17T18:49:45.973785",
     "status": "completed"
    },
    "tags": []
   },
   "outputs": [],
   "source": [
    "from pyspark.sql.functions import udf\n",
    "from pyspark.sql.types import StringType\n",
    "from pyspark.sql.types import IntegerType\n",
    "from pyspark.sql.functions import desc\n",
    "from pyspark.sql.functions import asc\n",
    "from pyspark.sql.functions import sum as Fsum\n",
    "\n",
    "import datetime\n"
   ]
  },
  {
   "cell_type": "code",
   "execution_count": 23,
   "id": "4db8321f",
   "metadata": {
    "execution": {
     "iopub.execute_input": "2022-03-17T18:49:46.468875Z",
     "iopub.status.busy": "2022-03-17T18:49:46.467757Z",
     "iopub.status.idle": "2022-03-17T18:49:46.705635Z",
     "shell.execute_reply": "2022-03-17T18:49:46.704591Z",
     "shell.execute_reply.started": "2022-03-17T18:20:11.530227Z"
    },
    "papermill": {
     "duration": 0.400867,
     "end_time": "2022-03-17T18:49:46.705867",
     "exception": false,
     "start_time": "2022-03-17T18:49:46.305000",
     "status": "completed"
    },
    "tags": []
   },
   "outputs": [
    {
     "data": {
      "text/plain": [
       "2667"
      ]
     },
     "execution_count": 23,
     "metadata": {},
     "output_type": "execute_result"
    }
   ],
   "source": [
    "data.count()"
   ]
  },
  {
   "cell_type": "code",
   "execution_count": 24,
   "id": "d664fe0a",
   "metadata": {
    "execution": {
     "iopub.execute_input": "2022-03-17T18:49:47.231406Z",
     "iopub.status.busy": "2022-03-17T18:49:47.230410Z",
     "iopub.status.idle": "2022-03-17T18:49:47.878861Z",
     "shell.execute_reply": "2022-03-17T18:49:47.877694Z",
     "shell.execute_reply.started": "2022-03-17T18:20:47.408354Z"
    },
    "papermill": {
     "duration": 0.909425,
     "end_time": "2022-03-17T18:49:47.879104",
     "exception": false,
     "start_time": "2022-03-17T18:49:46.969679",
     "status": "completed"
    },
    "tags": []
   },
   "outputs": [
    {
     "name": "stdout",
     "output_type": "stream",
     "text": [
      "+---+\n",
      "|_c0|\n",
      "+---+\n",
      "| AK|\n",
      "| AL|\n",
      "| AR|\n",
      "| AZ|\n",
      "| CA|\n",
      "| CO|\n",
      "| CT|\n",
      "| DC|\n",
      "| DE|\n",
      "| FL|\n",
      "| GA|\n",
      "| HI|\n",
      "| IA|\n",
      "| ID|\n",
      "| IL|\n",
      "| IN|\n",
      "| KS|\n",
      "| KY|\n",
      "| LA|\n",
      "| MA|\n",
      "+---+\n",
      "only showing top 20 rows\n",
      "\n"
     ]
    }
   ],
   "source": [
    "data.select('_c0').dropDuplicates().sort('_c0').show()"
   ]
  },
  {
   "cell_type": "code",
   "execution_count": 25,
   "id": "0bae218e",
   "metadata": {
    "execution": {
     "iopub.execute_input": "2022-03-17T18:49:48.310655Z",
     "iopub.status.busy": "2022-03-17T18:49:48.309872Z",
     "iopub.status.idle": "2022-03-17T18:49:48.593205Z",
     "shell.execute_reply": "2022-03-17T18:49:48.592380Z",
     "shell.execute_reply.started": "2022-03-17T18:22:11.151297Z"
    },
    "papermill": {
     "duration": 0.450749,
     "end_time": "2022-03-17T18:49:48.593418",
     "exception": false,
     "start_time": "2022-03-17T18:49:48.142669",
     "status": "completed"
    },
    "tags": []
   },
   "outputs": [
    {
     "data": {
      "text/plain": [
       "[Row(_c1='116', _c2='415'),\n",
       " Row(_c1='151', _c2='415'),\n",
       " Row(_c1='93', _c2='415'),\n",
       " Row(_c1='96', _c2='510'),\n",
       " Row(_c1='113', _c2='415'),\n",
       " Row(_c1='112', _c2='415'),\n",
       " Row(_c1='60', _c2='415'),\n",
       " Row(_c1='72', _c2='408'),\n",
       " Row(_c1='92', _c2='408'),\n",
       " Row(_c1='103', _c2='415'),\n",
       " Row(_c1='37', _c2='415'),\n",
       " Row(_c1='77', _c2='510'),\n",
       " Row(_c1='138', _c2='510'),\n",
       " Row(_c1='120', _c2='510'),\n",
       " Row(_c1='137', _c2='415'),\n",
       " Row(_c1='95', _c2='415'),\n",
       " Row(_c1='105', _c2='415'),\n",
       " Row(_c1='120', _c2='415'),\n",
       " Row(_c1='33', _c2='408'),\n",
       " Row(_c1='112', _c2='415'),\n",
       " Row(_c1='75', _c2='415'),\n",
       " Row(_c1='87', _c2='415'),\n",
       " Row(_c1='185', _c2='408'),\n",
       " Row(_c1='82', _c2='415')]"
      ]
     },
     "execution_count": 25,
     "metadata": {},
     "output_type": "execute_result"
    }
   ],
   "source": [
    "data.select(['_c1', '_c2']).where(data._c0 == 'CA').collect()"
   ]
  },
  {
   "cell_type": "code",
   "execution_count": null,
   "id": "3ecf6163",
   "metadata": {
    "papermill": {
     "duration": 0.159119,
     "end_time": "2022-03-17T18:49:48.954882",
     "exception": false,
     "start_time": "2022-03-17T18:49:48.795763",
     "status": "completed"
    },
    "tags": []
   },
   "outputs": [],
   "source": []
  }
 ],
 "metadata": {
  "kernelspec": {
   "display_name": "Python 3",
   "language": "python",
   "name": "python3"
  },
  "language_info": {
   "codemirror_mode": {
    "name": "ipython",
    "version": 3
   },
   "file_extension": ".py",
   "mimetype": "text/x-python",
   "name": "python",
   "nbconvert_exporter": "python",
   "pygments_lexer": "ipython3",
   "version": "3.7.12"
  },
  "papermill": {
   "default_parameters": {},
   "duration": 86.096512,
   "end_time": "2022-03-17T18:49:49.928686",
   "environment_variables": {},
   "exception": null,
   "input_path": "__notebook__.ipynb",
   "output_path": "__notebook__.ipynb",
   "parameters": {},
   "start_time": "2022-03-17T18:48:23.832174",
   "version": "2.3.3"
  }
 },
 "nbformat": 4,
 "nbformat_minor": 5
}
