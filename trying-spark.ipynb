{
 "cells": [
  {
   "cell_type": "markdown",
   "id": "fa901c20",
   "metadata": {
    "papermill": {
     "duration": 0.034238,
     "end_time": "2022-03-26T16:57:34.705783",
     "exception": false,
     "start_time": "2022-03-26T16:57:34.671545",
     "status": "completed"
    },
    "tags": []
   },
   "source": [
    "Trying Spark on this data.\n",
    "\n",
    "(1) \n",
    "https://www.kaggle.com/kkhandekar/apache-spark-beginner-tutorial\n",
    "\n",
    "(2) \n",
    "https://www.kaggle.com/tylerx/machine-learning-with-spark\n",
    "\n",
    "(3) \n",
    "https://www.kaggle.com/anninasimon/pyspark-basics-for-beginners-part-1\n",
    "\n",
    "https://www.kaggle.com/anninasimon/pyspark-basics-part-2\n",
    "\n",
    "(4)\n",
    "https://www.kaggle.com/nilaychauhan/pyspark-tutorial-for-beginners\n",
    "\n"
   ]
  },
  {
   "cell_type": "markdown",
   "id": "fc16690a",
   "metadata": {
    "papermill": {
     "duration": 0.031519,
     "end_time": "2022-03-26T16:57:34.771918",
     "exception": false,
     "start_time": "2022-03-26T16:57:34.740399",
     "status": "completed"
    },
    "tags": []
   },
   "source": [
    "### Trying (4)"
   ]
  },
  {
   "cell_type": "code",
   "execution_count": 1,
   "id": "d13b6f3f",
   "metadata": {
    "_cell_guid": "b1076dfc-b9ad-4769-8c92-a6c4dae69d19",
    "_uuid": "8f2839f25d086af736a60e9eeb907d3b93b6e0e5",
    "execution": {
     "iopub.execute_input": "2022-03-26T16:57:34.845038Z",
     "iopub.status.busy": "2022-03-26T16:57:34.840038Z",
     "iopub.status.idle": "2022-03-26T16:57:34.865586Z",
     "shell.execute_reply": "2022-03-26T16:57:34.864713Z",
     "shell.execute_reply.started": "2022-03-26T16:55:21.066770Z"
    },
    "papermill": {
     "duration": 0.061709,
     "end_time": "2022-03-26T16:57:34.865784",
     "exception": false,
     "start_time": "2022-03-26T16:57:34.804075",
     "status": "completed"
    },
    "tags": []
   },
   "outputs": [
    {
     "name": "stdout",
     "output_type": "stream",
     "text": [
      "/kaggle/input/telecom-churn-datasets/churn-bigml-20.csv\n",
      "/kaggle/input/telecom-churn-datasets/churn-bigml-80.csv\n"
     ]
    }
   ],
   "source": [
    "# This Python 3 environment comes with many helpful analytics libraries installed\n",
    "# It is defined by the kaggle/python Docker image: https://github.com/kaggle/docker-python\n",
    "# For example, here's several helpful packages to load\n",
    "\n",
    "import numpy as np # linear algebra\n",
    "import pandas as pd # data processing, CSV file I/O (e.g. pd.read_csv)\n",
    "\n",
    "# Input data files are available in the read-only \"../input/\" directory\n",
    "# For example, running this (by clicking run or pressing Shift+Enter) will list all files under the input directory\n",
    "\n",
    "import os\n",
    "for dirname, _, filenames in os.walk('/kaggle/input'):\n",
    "    for filename in filenames:\n",
    "        print(os.path.join(dirname, filename))\n",
    "\n",
    "# You can write up to 20GB to the current directory (/kaggle/working/) that gets preserved as output when you create a version using \"Save & Run All\" \n",
    "# You can also write temporary files to /kaggle/temp/, but they won't be saved outside of the current session"
   ]
  },
  {
   "cell_type": "code",
   "execution_count": 2,
   "id": "9cb83f38",
   "metadata": {
    "execution": {
     "iopub.execute_input": "2022-03-26T16:57:34.938022Z",
     "iopub.status.busy": "2022-03-26T16:57:34.933886Z",
     "iopub.status.idle": "2022-03-26T16:57:34.939896Z",
     "shell.execute_reply": "2022-03-26T16:57:34.940505Z",
     "shell.execute_reply.started": "2022-03-26T16:55:29.651973Z"
    },
    "papermill": {
     "duration": 0.041936,
     "end_time": "2022-03-26T16:57:34.940699",
     "exception": false,
     "start_time": "2022-03-26T16:57:34.898763",
     "status": "completed"
    },
    "tags": []
   },
   "outputs": [],
   "source": [
    "%matplotlib inline\n",
    "import matplotlib.pyplot as plt\n",
    "\n",
    "import datetime\n"
   ]
  },
  {
   "cell_type": "markdown",
   "id": "36b48489",
   "metadata": {
    "papermill": {
     "duration": 0.034166,
     "end_time": "2022-03-26T16:57:35.007261",
     "exception": false,
     "start_time": "2022-03-26T16:57:34.973095",
     "status": "completed"
    },
    "tags": []
   },
   "source": [
    "### \"pip install forever\"\n",
    "https://www.kaggle.com/samsammurphy/pip-install-forever\n",
    "\n",
    "\n",
    "pip install forever\n",
    "\n",
    "Install a pip package permenantly in the /kaggle/working directory\n",
    "\n",
    "Requires Save Version > Advanced Settings > Save output for this version\n"
   ]
  },
  {
   "cell_type": "code",
   "execution_count": 3,
   "id": "5c984c8b",
   "metadata": {
    "execution": {
     "iopub.execute_input": "2022-03-26T16:57:35.080213Z",
     "iopub.status.busy": "2022-03-26T16:57:35.079538Z",
     "iopub.status.idle": "2022-03-26T16:58:21.305767Z",
     "shell.execute_reply": "2022-03-26T16:58:21.305150Z"
    },
    "papermill": {
     "duration": 46.263535,
     "end_time": "2022-03-26T16:58:21.305939",
     "exception": false,
     "start_time": "2022-03-26T16:57:35.042404",
     "status": "completed"
    },
    "tags": []
   },
   "outputs": [
    {
     "name": "stdout",
     "output_type": "stream",
     "text": [
      "Collecting pyspark\r\n",
      "  Downloading pyspark-3.2.1.tar.gz (281.4 MB)\r\n",
      "     |████████████████████████████████| 281.4 MB 30 kB/s               \r\n",
      "\u001b[?25h  Preparing metadata (setup.py) ... \u001b[?25l-\b \b\\\b \bdone\r\n",
      "\u001b[?25hCollecting py4j==0.10.9.3\r\n",
      "  Downloading py4j-0.10.9.3-py2.py3-none-any.whl (198 kB)\r\n",
      "     |████████████████████████████████| 198 kB 56.5 MB/s            \r\n",
      "\u001b[?25hBuilding wheels for collected packages: pyspark\r\n",
      "  Building wheel for pyspark (setup.py) ... \u001b[?25l-\b \b\\\b \b|\b \b/\b \b-\b \b\\\b \b|\b \b/\b \b-\b \b\\\b \b|\b \b/\b \b-\b \b\\\b \b|\b \b/\b \b-\b \b\\\b \b|\b \b/\b \b-\b \b\\\b \b|\b \b/\b \b-\b \b\\\b \b|\b \b/\b \b-\b \b\\\b \b|\b \b/\b \b-\b \b\\\b \b|\b \b/\b \b-\b \b\\\b \b|\b \b/\b \b-\b \b\\\b \b|\b \b/\b \b-\b \b\\\b \b|\b \b/\b \b-\b \b\\\b \b|\b \b/\b \b-\b \b\\\b \b|\b \b/\b \b-\b \b\\\b \b|\b \bdone\r\n",
      "\u001b[?25h  Created wheel for pyspark: filename=pyspark-3.2.1-py2.py3-none-any.whl size=281853642 sha256=57e6e756c80ee2fc3b412e6a92920517216968214d61f8efdeb850b41c3ad0ff\r\n",
      "  Stored in directory: /root/.cache/pip/wheels/9f/f5/07/7cd8017084dce4e93e84e92efd1e1d5334db05f2e83bcef74f\r\n",
      "Successfully built pyspark\r\n",
      "Installing collected packages: py4j, pyspark\r\n",
      "Successfully installed py4j-0.10.9.3 pyspark-3.2.1\r\n",
      "\u001b[33mWARNING: Running pip as the 'root' user can result in broken permissions and conflicting behaviour with the system package manager. It is recommended to use a virtual environment instead: https://pip.pypa.io/warnings/venv\u001b[0m\r\n"
     ]
    }
   ],
   "source": [
    "#install Apache Spark\n",
    "!pip install pyspark --target=/kaggle/working/mysitepackages"
   ]
  },
  {
   "cell_type": "code",
   "execution_count": 4,
   "id": "90bc4fb1",
   "metadata": {
    "execution": {
     "iopub.execute_input": "2022-03-26T16:58:21.642316Z",
     "iopub.status.busy": "2022-03-26T16:58:21.641211Z",
     "iopub.status.idle": "2022-03-26T16:58:21.644192Z",
     "shell.execute_reply": "2022-03-26T16:58:21.643585Z",
     "shell.execute_reply.started": "2022-03-26T16:55:35.723655Z"
    },
    "papermill": {
     "duration": 0.173716,
     "end_time": "2022-03-26T16:58:21.644346",
     "exception": false,
     "start_time": "2022-03-26T16:58:21.470630",
     "status": "completed"
    },
    "tags": []
   },
   "outputs": [],
   "source": [
    "import sys\n",
    "sys.path.append('/kaggle/working/mysitepackages')"
   ]
  },
  {
   "cell_type": "code",
   "execution_count": 5,
   "id": "7e9ad9b3",
   "metadata": {
    "execution": {
     "iopub.execute_input": "2022-03-26T16:58:21.973989Z",
     "iopub.status.busy": "2022-03-26T16:58:21.973219Z",
     "iopub.status.idle": "2022-03-26T16:58:22.721344Z",
     "shell.execute_reply": "2022-03-26T16:58:22.720714Z",
     "shell.execute_reply.started": "2022-03-26T16:55:39.441547Z"
    },
    "papermill": {
     "duration": 0.917671,
     "end_time": "2022-03-26T16:58:22.721538",
     "exception": false,
     "start_time": "2022-03-26T16:58:21.803867",
     "status": "completed"
    },
    "tags": []
   },
   "outputs": [
    {
     "name": "stdout",
     "output_type": "stream",
     "text": [
      "bin  py4j  py4j-0.10.9.3.dist-info  pyspark  pyspark-3.2.1.dist-info  share\r\n"
     ]
    }
   ],
   "source": [
    "!ls /kaggle/working/mysitepackages/"
   ]
  },
  {
   "cell_type": "code",
   "execution_count": 6,
   "id": "7ab71465",
   "metadata": {
    "execution": {
     "iopub.execute_input": "2022-03-26T16:58:23.056147Z",
     "iopub.status.busy": "2022-03-26T16:58:23.055409Z",
     "iopub.status.idle": "2022-03-26T16:58:23.106620Z",
     "shell.execute_reply": "2022-03-26T16:58:23.107295Z",
     "shell.execute_reply.started": "2022-03-26T16:55:40.324975Z"
    },
    "papermill": {
     "duration": 0.21758,
     "end_time": "2022-03-26T16:58:23.107527",
     "exception": false,
     "start_time": "2022-03-26T16:58:22.889947",
     "status": "completed"
    },
    "tags": []
   },
   "outputs": [],
   "source": [
    "import pyspark"
   ]
  },
  {
   "cell_type": "code",
   "execution_count": 7,
   "id": "064965cc",
   "metadata": {
    "execution": {
     "iopub.execute_input": "2022-03-26T16:58:23.434460Z",
     "iopub.status.busy": "2022-03-26T16:58:23.433791Z",
     "iopub.status.idle": "2022-03-26T16:58:24.719847Z",
     "shell.execute_reply": "2022-03-26T16:58:24.719144Z",
     "shell.execute_reply.started": "2022-03-17T19:08:58.824429Z"
    },
    "papermill": {
     "duration": 1.451526,
     "end_time": "2022-03-26T16:58:24.720012",
     "exception": false,
     "start_time": "2022-03-26T16:58:23.268486",
     "status": "completed"
    },
    "tags": []
   },
   "outputs": [],
   "source": [
    "#Apache Spark Libraries\n",
    "# import pyspark\n",
    "from pyspark import SparkConf\n",
    "from pyspark.sql import SparkSession\n",
    "\n",
    "#Apache Spark ML CLassifier Libraries\n",
    "from pyspark.ml.classification import DecisionTreeClassifier,RandomForestClassifier,NaiveBayes\n",
    "\n",
    "\n",
    "#Apache Spark Evaluation Library\n",
    "from pyspark.ml.evaluation import MulticlassClassificationEvaluator\n",
    "\n",
    "#Apache Spark Features libraries\n",
    "from pyspark.ml.feature import StandardScaler,StringIndexer, VectorAssembler, VectorIndexer, OneHotEncoder\n",
    "\n",
    "#Apache Spark Pipelin Library\n",
    "from pyspark.ml import Pipeline\n",
    "\n",
    "# Apache Spark `DenseVector`\n",
    "from pyspark.ml.linalg import DenseVector\n",
    "\n",
    "#Data Split Libraries\n",
    "import sklearn\n",
    "from sklearn.model_selection import train_test_split\n",
    "\n",
    "\n",
    "#Tabulating Data\n",
    "from tabulate import tabulate\n",
    "\n",
    "#Garbage\n",
    "import gc"
   ]
  },
  {
   "cell_type": "code",
   "execution_count": 8,
   "id": "614155e8",
   "metadata": {
    "execution": {
     "iopub.execute_input": "2022-03-26T16:58:25.335805Z",
     "iopub.status.busy": "2022-03-26T16:58:25.334694Z",
     "iopub.status.idle": "2022-03-26T16:58:25.337302Z",
     "shell.execute_reply": "2022-03-26T16:58:25.336762Z",
     "shell.execute_reply.started": "2022-03-17T18:06:05.313828Z"
    },
    "papermill": {
     "duration": 0.455021,
     "end_time": "2022-03-26T16:58:25.337495",
     "exception": false,
     "start_time": "2022-03-26T16:58:24.882474",
     "status": "completed"
    },
    "tags": []
   },
   "outputs": [],
   "source": [
    "# !java -version"
   ]
  },
  {
   "cell_type": "code",
   "execution_count": 9,
   "id": "144146e0",
   "metadata": {
    "execution": {
     "iopub.execute_input": "2022-03-26T16:58:25.688755Z",
     "iopub.status.busy": "2022-03-26T16:58:25.687388Z",
     "iopub.status.idle": "2022-03-26T16:58:31.062200Z",
     "shell.execute_reply": "2022-03-26T16:58:31.061513Z",
     "shell.execute_reply.started": "2022-03-17T18:03:59.544614Z"
    },
    "papermill": {
     "duration": 5.565466,
     "end_time": "2022-03-26T16:58:31.062405",
     "exception": false,
     "start_time": "2022-03-26T16:58:25.496939",
     "status": "completed"
    },
    "tags": []
   },
   "outputs": [
    {
     "name": "stderr",
     "output_type": "stream",
     "text": [
      "WARNING: An illegal reflective access operation has occurred\n",
      "WARNING: Illegal reflective access by org.apache.spark.unsafe.Platform (file:/kaggle/working/mysitepackages/pyspark/jars/spark-unsafe_2.12-3.2.1.jar) to constructor java.nio.DirectByteBuffer(long,int)\n",
      "WARNING: Please consider reporting this to the maintainers of org.apache.spark.unsafe.Platform\n",
      "WARNING: Use --illegal-access=warn to enable warnings of further illegal reflective access operations\n",
      "WARNING: All illegal access operations will be denied in a future release\n",
      "Using Spark's default log4j profile: org/apache/spark/log4j-defaults.properties\n",
      "Setting default log level to \"WARN\".\n",
      "To adjust logging level use sc.setLogLevel(newLevel). For SparkR, use setLogLevel(newLevel).\n",
      "22/03/26 16:58:28 WARN NativeCodeLoader: Unable to load native-hadoop library for your platform... using builtin-java classes where applicable\n"
     ]
    }
   ],
   "source": [
    "sc = pyspark.SparkContext(appName=\"intro_to_spark\")"
   ]
  },
  {
   "cell_type": "code",
   "execution_count": 10,
   "id": "58d0ab95",
   "metadata": {
    "execution": {
     "iopub.execute_input": "2022-03-26T16:58:31.798828Z",
     "iopub.status.busy": "2022-03-26T16:58:31.798029Z",
     "iopub.status.idle": "2022-03-26T16:58:32.195808Z",
     "shell.execute_reply": "2022-03-26T16:58:32.194760Z",
     "shell.execute_reply.started": "2022-03-17T18:07:04.360004Z"
    },
    "papermill": {
     "duration": 0.955533,
     "end_time": "2022-03-26T16:58:32.196064",
     "exception": false,
     "start_time": "2022-03-26T16:58:31.240531",
     "status": "completed"
    },
    "tags": []
   },
   "outputs": [],
   "source": [
    "log_of_songs = [\n",
    "        \"Despacito\",\n",
    "        \"Nice for what\",\n",
    "        \"No tears left to cry\",\n",
    "        \"Despacito\",\n",
    "        \"Havana\",\n",
    "        \"In my feelings\",\n",
    "        \"Nice for what\",\n",
    "        \"despacito\",\n",
    "        \"All the stars\"\n",
    "]\n",
    "\n",
    "# parallelize the log_of_songs to use with Spark\n",
    "distributed_song_log = sc.parallelize(log_of_songs)"
   ]
  },
  {
   "cell_type": "code",
   "execution_count": 11,
   "id": "6f464b90",
   "metadata": {
    "execution": {
     "iopub.execute_input": "2022-03-26T16:58:32.534542Z",
     "iopub.status.busy": "2022-03-26T16:58:32.533803Z",
     "iopub.status.idle": "2022-03-26T16:58:32.541284Z",
     "shell.execute_reply": "2022-03-26T16:58:32.541874Z",
     "shell.execute_reply.started": "2022-03-17T18:08:05.559748Z"
    },
    "papermill": {
     "duration": 0.179574,
     "end_time": "2022-03-26T16:58:32.542088",
     "exception": false,
     "start_time": "2022-03-26T16:58:32.362514",
     "status": "completed"
    },
    "tags": []
   },
   "outputs": [
    {
     "data": {
      "text/plain": [
       "ParallelCollectionRDD[0] at readRDDFromFile at PythonRDD.scala:274"
      ]
     },
     "execution_count": 11,
     "metadata": {},
     "output_type": "execute_result"
    }
   ],
   "source": [
    "distributed_song_log"
   ]
  },
  {
   "cell_type": "code",
   "execution_count": 12,
   "id": "0df70883",
   "metadata": {
    "execution": {
     "iopub.execute_input": "2022-03-26T16:58:32.876266Z",
     "iopub.status.busy": "2022-03-26T16:58:32.875154Z",
     "iopub.status.idle": "2022-03-26T16:58:32.880160Z",
     "shell.execute_reply": "2022-03-26T16:58:32.879522Z",
     "shell.execute_reply.started": "2022-03-17T18:09:55.086523Z"
    },
    "papermill": {
     "duration": 0.175098,
     "end_time": "2022-03-26T16:58:32.880313",
     "exception": false,
     "start_time": "2022-03-26T16:58:32.705215",
     "status": "completed"
    },
    "tags": []
   },
   "outputs": [
    {
     "data": {
      "text/plain": [
       "ParallelCollectionRDD[0] at readRDDFromFile at PythonRDD.scala:274"
      ]
     },
     "execution_count": 12,
     "metadata": {},
     "output_type": "execute_result"
    }
   ],
   "source": [
    "distributed_song_log"
   ]
  },
  {
   "cell_type": "code",
   "execution_count": 13,
   "id": "cf81aa02",
   "metadata": {
    "execution": {
     "iopub.execute_input": "2022-03-26T16:58:33.216086Z",
     "iopub.status.busy": "2022-03-26T16:58:33.215327Z",
     "iopub.status.idle": "2022-03-26T16:58:33.969112Z",
     "shell.execute_reply": "2022-03-26T16:58:33.968194Z",
     "shell.execute_reply.started": "2022-03-17T18:09:43.039657Z"
    },
    "papermill": {
     "duration": 0.924178,
     "end_time": "2022-03-26T16:58:33.969355",
     "exception": false,
     "start_time": "2022-03-26T16:58:33.045177",
     "status": "completed"
    },
    "tags": []
   },
   "outputs": [
    {
     "data": {
      "text/plain": [
       "['Despacito',\n",
       " 'Nice for what',\n",
       " 'No tears left to cry',\n",
       " 'Despacito',\n",
       " 'Havana',\n",
       " 'In my feelings',\n",
       " 'Nice for what',\n",
       " 'despacito',\n",
       " 'All the stars']"
      ]
     },
     "execution_count": 13,
     "metadata": {},
     "output_type": "execute_result"
    }
   ],
   "source": [
    "distributed_song_log.collect()"
   ]
  },
  {
   "cell_type": "code",
   "execution_count": 14,
   "id": "ff498167",
   "metadata": {
    "execution": {
     "iopub.execute_input": "2022-03-26T16:58:34.343261Z",
     "iopub.status.busy": "2022-03-26T16:58:34.342533Z",
     "iopub.status.idle": "2022-03-26T16:58:34.343932Z",
     "shell.execute_reply": "2022-03-26T16:58:34.344569Z",
     "shell.execute_reply.started": "2022-03-17T18:07:16.897415Z"
    },
    "papermill": {
     "duration": 0.170246,
     "end_time": "2022-03-26T16:58:34.344782",
     "exception": false,
     "start_time": "2022-03-26T16:58:34.174536",
     "status": "completed"
    },
    "tags": []
   },
   "outputs": [],
   "source": [
    "def convert_song_to_lowercase(song):\n",
    "    return song.lower()"
   ]
  },
  {
   "cell_type": "code",
   "execution_count": 15,
   "id": "73e8a7a6",
   "metadata": {
    "execution": {
     "iopub.execute_input": "2022-03-26T16:58:34.675406Z",
     "iopub.status.busy": "2022-03-26T16:58:34.674656Z",
     "iopub.status.idle": "2022-03-26T16:58:35.561568Z",
     "shell.execute_reply": "2022-03-26T16:58:35.562120Z",
     "shell.execute_reply.started": "2022-03-17T18:07:37.214025Z"
    },
    "papermill": {
     "duration": 1.054817,
     "end_time": "2022-03-26T16:58:35.562341",
     "exception": false,
     "start_time": "2022-03-26T16:58:34.507524",
     "status": "completed"
    },
    "tags": []
   },
   "outputs": [
    {
     "name": "stderr",
     "output_type": "stream",
     "text": [
      "                                                                                \r"
     ]
    },
    {
     "data": {
      "text/plain": [
       "['despacito',\n",
       " 'nice for what',\n",
       " 'no tears left to cry',\n",
       " 'despacito',\n",
       " 'havana',\n",
       " 'in my feelings',\n",
       " 'nice for what',\n",
       " 'despacito',\n",
       " 'all the stars']"
      ]
     },
     "execution_count": 15,
     "metadata": {},
     "output_type": "execute_result"
    }
   ],
   "source": [
    "distributed_song_log.map(convert_song_to_lowercase).collect()"
   ]
  },
  {
   "cell_type": "code",
   "execution_count": 16,
   "id": "35d8b334",
   "metadata": {
    "execution": {
     "iopub.execute_input": "2022-03-26T16:58:35.897878Z",
     "iopub.status.busy": "2022-03-26T16:58:35.896184Z",
     "iopub.status.idle": "2022-03-26T16:58:37.175737Z",
     "shell.execute_reply": "2022-03-26T16:58:37.175089Z",
     "shell.execute_reply.started": "2022-03-17T18:12:57.483966Z"
    },
    "papermill": {
     "duration": 1.446782,
     "end_time": "2022-03-26T16:58:37.175904",
     "exception": false,
     "start_time": "2022-03-26T16:58:35.729122",
     "status": "completed"
    },
    "tags": []
   },
   "outputs": [],
   "source": [
    "spark = SparkSession \\\n",
    "    .builder \\\n",
    "    .appName(\"intro_to_spark\") \\\n",
    "    .getOrCreate()"
   ]
  },
  {
   "cell_type": "code",
   "execution_count": 17,
   "id": "fa6c8b2f",
   "metadata": {
    "execution": {
     "iopub.execute_input": "2022-03-26T16:58:37.508223Z",
     "iopub.status.busy": "2022-03-26T16:58:37.507057Z",
     "iopub.status.idle": "2022-03-26T16:58:37.541973Z",
     "shell.execute_reply": "2022-03-26T16:58:37.542541Z",
     "shell.execute_reply.started": "2022-03-17T18:13:22.830815Z"
    },
    "papermill": {
     "duration": 0.205155,
     "end_time": "2022-03-26T16:58:37.542749",
     "exception": false,
     "start_time": "2022-03-26T16:58:37.337594",
     "status": "completed"
    },
    "tags": []
   },
   "outputs": [
    {
     "data": {
      "text/plain": [
       "[('spark.driver.port', '42399'),\n",
       " ('spark.app.id', 'local-1648313910226'),\n",
       " ('spark.app.name', 'intro_to_spark'),\n",
       " ('spark.rdd.compress', 'True'),\n",
       " ('spark.serializer.objectStreamReset', '100'),\n",
       " ('spark.master', 'local[*]'),\n",
       " ('spark.submit.pyFiles', ''),\n",
       " ('spark.app.startTime', '1648313908633'),\n",
       " ('spark.executor.id', 'driver'),\n",
       " ('spark.submit.deployMode', 'client'),\n",
       " ('spark.sql.warehouse.dir', 'file:/kaggle/working/spark-warehouse'),\n",
       " ('spark.ui.showConsoleProgress', 'true'),\n",
       " ('spark.driver.host', '30a4fb067a16')]"
      ]
     },
     "execution_count": 17,
     "metadata": {},
     "output_type": "execute_result"
    }
   ],
   "source": [
    "spark.sparkContext.getConf().getAll()"
   ]
  },
  {
   "cell_type": "code",
   "execution_count": 18,
   "id": "efcd7ad3",
   "metadata": {
    "execution": {
     "iopub.execute_input": "2022-03-26T16:58:37.879925Z",
     "iopub.status.busy": "2022-03-26T16:58:37.878549Z",
     "iopub.status.idle": "2022-03-26T16:58:37.887480Z",
     "shell.execute_reply": "2022-03-26T16:58:37.888000Z",
     "shell.execute_reply.started": "2022-03-17T18:13:45.459113Z"
    },
    "papermill": {
     "duration": 0.180236,
     "end_time": "2022-03-26T16:58:37.888199",
     "exception": false,
     "start_time": "2022-03-26T16:58:37.707963",
     "status": "completed"
    },
    "tags": []
   },
   "outputs": [
    {
     "data": {
      "text/html": [
       "\n",
       "            <div>\n",
       "                <p><b>SparkSession - in-memory</b></p>\n",
       "                \n",
       "        <div>\n",
       "            <p><b>SparkContext</b></p>\n",
       "\n",
       "            <p><a href=\"http://30a4fb067a16:4040\">Spark UI</a></p>\n",
       "\n",
       "            <dl>\n",
       "              <dt>Version</dt>\n",
       "                <dd><code>v3.2.1</code></dd>\n",
       "              <dt>Master</dt>\n",
       "                <dd><code>local[*]</code></dd>\n",
       "              <dt>AppName</dt>\n",
       "                <dd><code>intro_to_spark</code></dd>\n",
       "            </dl>\n",
       "        </div>\n",
       "        \n",
       "            </div>\n",
       "        "
      ],
      "text/plain": [
       "<pyspark.sql.session.SparkSession at 0x7f37432b4e10>"
      ]
     },
     "execution_count": 18,
     "metadata": {},
     "output_type": "execute_result"
    }
   ],
   "source": [
    "spark"
   ]
  },
  {
   "cell_type": "code",
   "execution_count": 19,
   "id": "081a1653",
   "metadata": {
    "execution": {
     "iopub.execute_input": "2022-03-26T16:58:38.223814Z",
     "iopub.status.busy": "2022-03-26T16:58:38.222765Z",
     "iopub.status.idle": "2022-03-26T16:58:42.716175Z",
     "shell.execute_reply": "2022-03-26T16:58:42.715131Z",
     "shell.execute_reply.started": "2022-03-17T18:15:27.179327Z"
    },
    "papermill": {
     "duration": 4.662063,
     "end_time": "2022-03-26T16:58:42.716449",
     "exception": false,
     "start_time": "2022-03-26T16:58:38.054386",
     "status": "completed"
    },
    "tags": []
   },
   "outputs": [],
   "source": [
    "path = \"../input/telecom-churn-datasets/churn-bigml-80.csv\"\n",
    "data = spark.read.csv(path)"
   ]
  },
  {
   "cell_type": "code",
   "execution_count": 20,
   "id": "02d88b27",
   "metadata": {
    "execution": {
     "iopub.execute_input": "2022-03-26T16:58:43.067439Z",
     "iopub.status.busy": "2022-03-26T16:58:43.066192Z",
     "iopub.status.idle": "2022-03-26T16:58:43.086137Z",
     "shell.execute_reply": "2022-03-26T16:58:43.084774Z",
     "shell.execute_reply.started": "2022-03-17T18:15:52.336631Z"
    },
    "papermill": {
     "duration": 0.187961,
     "end_time": "2022-03-26T16:58:43.086467",
     "exception": false,
     "start_time": "2022-03-26T16:58:42.898506",
     "status": "completed"
    },
    "tags": []
   },
   "outputs": [
    {
     "name": "stdout",
     "output_type": "stream",
     "text": [
      "root\n",
      " |-- _c0: string (nullable = true)\n",
      " |-- _c1: string (nullable = true)\n",
      " |-- _c2: string (nullable = true)\n",
      " |-- _c3: string (nullable = true)\n",
      " |-- _c4: string (nullable = true)\n",
      " |-- _c5: string (nullable = true)\n",
      " |-- _c6: string (nullable = true)\n",
      " |-- _c7: string (nullable = true)\n",
      " |-- _c8: string (nullable = true)\n",
      " |-- _c9: string (nullable = true)\n",
      " |-- _c10: string (nullable = true)\n",
      " |-- _c11: string (nullable = true)\n",
      " |-- _c12: string (nullable = true)\n",
      " |-- _c13: string (nullable = true)\n",
      " |-- _c14: string (nullable = true)\n",
      " |-- _c15: string (nullable = true)\n",
      " |-- _c16: string (nullable = true)\n",
      " |-- _c17: string (nullable = true)\n",
      " |-- _c18: string (nullable = true)\n",
      " |-- _c19: string (nullable = true)\n",
      "\n"
     ]
    }
   ],
   "source": [
    "data.printSchema()"
   ]
  },
  {
   "cell_type": "code",
   "execution_count": 21,
   "id": "e4090543",
   "metadata": {
    "execution": {
     "iopub.execute_input": "2022-03-26T16:58:43.421503Z",
     "iopub.status.busy": "2022-03-26T16:58:43.420540Z",
     "iopub.status.idle": "2022-03-26T16:58:46.840550Z",
     "shell.execute_reply": "2022-03-26T16:58:46.842042Z",
     "shell.execute_reply.started": "2022-03-17T18:16:03.859397Z"
    },
    "papermill": {
     "duration": 3.588923,
     "end_time": "2022-03-26T16:58:46.842355",
     "exception": false,
     "start_time": "2022-03-26T16:58:43.253432",
     "status": "completed"
    },
    "tags": []
   },
   "outputs": [
    {
     "name": "stderr",
     "output_type": "stream",
     "text": [
      "                                                                                \r"
     ]
    },
    {
     "data": {
      "text/plain": [
       "DataFrame[summary: string, _c0: string, _c1: string, _c2: string, _c3: string, _c4: string, _c5: string, _c6: string, _c7: string, _c8: string, _c9: string, _c10: string, _c11: string, _c12: string, _c13: string, _c14: string, _c15: string, _c16: string, _c17: string, _c18: string, _c19: string]"
      ]
     },
     "execution_count": 21,
     "metadata": {},
     "output_type": "execute_result"
    }
   ],
   "source": [
    "data.describe()"
   ]
  },
  {
   "cell_type": "code",
   "execution_count": 22,
   "id": "58835919",
   "metadata": {
    "execution": {
     "iopub.execute_input": "2022-03-26T16:58:47.282973Z",
     "iopub.status.busy": "2022-03-26T16:58:47.281855Z",
     "iopub.status.idle": "2022-03-26T16:58:47.554633Z",
     "shell.execute_reply": "2022-03-26T16:58:47.555706Z",
     "shell.execute_reply.started": "2022-03-17T18:16:14.30527Z"
    },
    "papermill": {
     "duration": 0.462867,
     "end_time": "2022-03-26T16:58:47.556057",
     "exception": false,
     "start_time": "2022-03-26T16:58:47.093190",
     "status": "completed"
    },
    "tags": []
   },
   "outputs": [
    {
     "name": "stdout",
     "output_type": "stream",
     "text": [
      "+-----+--------------+---------+------------------+---------------+--------------------+-----------------+---------------+----------------+-----------------+---------------+----------------+-------------------+-----------------+------------------+------------------+----------------+-----------------+--------------------+-----+\n",
      "|  _c0|           _c1|      _c2|               _c3|            _c4|                 _c5|              _c6|            _c7|             _c8|              _c9|           _c10|            _c11|               _c12|             _c13|              _c14|              _c15|            _c16|             _c17|                _c18| _c19|\n",
      "+-----+--------------+---------+------------------+---------------+--------------------+-----------------+---------------+----------------+-----------------+---------------+----------------+-------------------+-----------------+------------------+------------------+----------------+-----------------+--------------------+-----+\n",
      "|State|Account length|Area code|International plan|Voice mail plan|Number vmail mess...|Total day minutes|Total day calls|Total day charge|Total eve minutes|Total eve calls|Total eve charge|Total night minutes|Total night calls|Total night charge|Total intl minutes|Total intl calls|Total intl charge|Customer service ...|Churn|\n",
      "+-----+--------------+---------+------------------+---------------+--------------------+-----------------+---------------+----------------+-----------------+---------------+----------------+-------------------+-----------------+------------------+------------------+----------------+-----------------+--------------------+-----+\n",
      "only showing top 1 row\n",
      "\n"
     ]
    }
   ],
   "source": [
    "data.show(n=1)"
   ]
  },
  {
   "cell_type": "code",
   "execution_count": 23,
   "id": "681e2ca4",
   "metadata": {
    "execution": {
     "iopub.execute_input": "2022-03-26T16:58:47.977401Z",
     "iopub.status.busy": "2022-03-26T16:58:47.976254Z",
     "iopub.status.idle": "2022-03-26T16:58:48.113862Z",
     "shell.execute_reply": "2022-03-26T16:58:48.114559Z",
     "shell.execute_reply.started": "2022-03-17T18:16:24.40471Z"
    },
    "papermill": {
     "duration": 0.318859,
     "end_time": "2022-03-26T16:58:48.114790",
     "exception": false,
     "start_time": "2022-03-26T16:58:47.795931",
     "status": "completed"
    },
    "tags": []
   },
   "outputs": [
    {
     "data": {
      "text/plain": [
       "[Row(_c0='State', _c1='Account length', _c2='Area code', _c3='International plan', _c4='Voice mail plan', _c5='Number vmail messages', _c6='Total day minutes', _c7='Total day calls', _c8='Total day charge', _c9='Total eve minutes', _c10='Total eve calls', _c11='Total eve charge', _c12='Total night minutes', _c13='Total night calls', _c14='Total night charge', _c15='Total intl minutes', _c16='Total intl calls', _c17='Total intl charge', _c18='Customer service calls', _c19='Churn'),\n",
       " Row(_c0='KS', _c1='128', _c2='415', _c3='No', _c4='Yes', _c5='25', _c6='265.1', _c7='110', _c8='45.07', _c9='197.4', _c10='99', _c11='16.78', _c12='244.7', _c13='91', _c14='11.01', _c15='10.0', _c16='3', _c17='2.7', _c18='1', _c19='False'),\n",
       " Row(_c0='OH', _c1='107', _c2='415', _c3='No', _c4='Yes', _c5='26', _c6='161.6', _c7='123', _c8='27.47', _c9='195.5', _c10='103', _c11='16.62', _c12='254.4', _c13='103', _c14='11.45', _c15='13.7', _c16='3', _c17='3.7', _c18='1', _c19='False'),\n",
       " Row(_c0='NJ', _c1='137', _c2='415', _c3='No', _c4='No', _c5='0', _c6='243.4', _c7='114', _c8='41.38', _c9='121.2', _c10='110', _c11='10.3', _c12='162.6', _c13='104', _c14='7.32', _c15='12.2', _c16='5', _c17='3.29', _c18='0', _c19='False'),\n",
       " Row(_c0='OH', _c1='84', _c2='408', _c3='Yes', _c4='No', _c5='0', _c6='299.4', _c7='71', _c8='50.9', _c9='61.9', _c10='88', _c11='5.26', _c12='196.9', _c13='89', _c14='8.86', _c15='6.6', _c16='7', _c17='1.78', _c18='2', _c19='False')]"
      ]
     },
     "execution_count": 23,
     "metadata": {},
     "output_type": "execute_result"
    }
   ],
   "source": [
    "data.take(5)"
   ]
  },
  {
   "cell_type": "code",
   "execution_count": 24,
   "id": "ce011d34",
   "metadata": {
    "execution": {
     "iopub.execute_input": "2022-03-26T16:58:48.461655Z",
     "iopub.status.busy": "2022-03-26T16:58:48.460576Z",
     "iopub.status.idle": "2022-03-26T16:58:48.618174Z",
     "shell.execute_reply": "2022-03-26T16:58:48.617077Z",
     "shell.execute_reply.started": "2022-03-17T18:17:53.947292Z"
    },
    "papermill": {
     "duration": 0.333387,
     "end_time": "2022-03-26T16:58:48.618475",
     "exception": false,
     "start_time": "2022-03-26T16:58:48.285088",
     "status": "completed"
    },
    "tags": []
   },
   "outputs": [
    {
     "name": "stdout",
     "output_type": "stream",
     "text": [
      "+-----+\n",
      "|  _c0|\n",
      "+-----+\n",
      "|State|\n",
      "|   KS|\n",
      "|   OH|\n",
      "|   NJ|\n",
      "|   OH|\n",
      "|   OK|\n",
      "|   AL|\n",
      "|   MA|\n",
      "|   MO|\n",
      "|   WV|\n",
      "|   RI|\n",
      "|   IA|\n",
      "|   MT|\n",
      "|   IA|\n",
      "|   ID|\n",
      "|   VT|\n",
      "|   VA|\n",
      "|   TX|\n",
      "|   FL|\n",
      "|   CO|\n",
      "+-----+\n",
      "only showing top 20 rows\n",
      "\n"
     ]
    }
   ],
   "source": [
    "data.select('_c0').show()"
   ]
  },
  {
   "cell_type": "code",
   "execution_count": 25,
   "id": "bc74e6f8",
   "metadata": {
    "execution": {
     "iopub.execute_input": "2022-03-26T16:58:48.988858Z",
     "iopub.status.busy": "2022-03-26T16:58:48.988057Z",
     "iopub.status.idle": "2022-03-26T16:58:48.990085Z",
     "shell.execute_reply": "2022-03-26T16:58:48.990628Z",
     "shell.execute_reply.started": "2022-03-17T18:19:48.490805Z"
    },
    "papermill": {
     "duration": 0.17571,
     "end_time": "2022-03-26T16:58:48.990836",
     "exception": false,
     "start_time": "2022-03-26T16:58:48.815126",
     "status": "completed"
    },
    "tags": []
   },
   "outputs": [],
   "source": [
    "from pyspark.sql.functions import udf\n",
    "from pyspark.sql.types import StringType\n",
    "from pyspark.sql.types import IntegerType\n",
    "from pyspark.sql.functions import desc\n",
    "from pyspark.sql.functions import asc\n",
    "from pyspark.sql.functions import sum as Fsum\n",
    "\n",
    "import datetime\n"
   ]
  },
  {
   "cell_type": "code",
   "execution_count": 26,
   "id": "e1fae98e",
   "metadata": {
    "execution": {
     "iopub.execute_input": "2022-03-26T16:58:49.329108Z",
     "iopub.status.busy": "2022-03-26T16:58:49.328287Z",
     "iopub.status.idle": "2022-03-26T16:58:49.684506Z",
     "shell.execute_reply": "2022-03-26T16:58:49.683544Z",
     "shell.execute_reply.started": "2022-03-17T18:20:11.530227Z"
    },
    "papermill": {
     "duration": 0.525956,
     "end_time": "2022-03-26T16:58:49.684730",
     "exception": false,
     "start_time": "2022-03-26T16:58:49.158774",
     "status": "completed"
    },
    "tags": []
   },
   "outputs": [
    {
     "data": {
      "text/plain": [
       "2667"
      ]
     },
     "execution_count": 26,
     "metadata": {},
     "output_type": "execute_result"
    }
   ],
   "source": [
    "data.count()"
   ]
  },
  {
   "cell_type": "code",
   "execution_count": 27,
   "id": "a4d3c75b",
   "metadata": {
    "execution": {
     "iopub.execute_input": "2022-03-26T16:58:50.079285Z",
     "iopub.status.busy": "2022-03-26T16:58:50.078172Z",
     "iopub.status.idle": "2022-03-26T16:58:50.753594Z",
     "shell.execute_reply": "2022-03-26T16:58:50.755491Z",
     "shell.execute_reply.started": "2022-03-17T18:20:47.408354Z"
    },
    "papermill": {
     "duration": 0.860268,
     "end_time": "2022-03-26T16:58:50.756996",
     "exception": false,
     "start_time": "2022-03-26T16:58:49.896728",
     "status": "completed"
    },
    "tags": []
   },
   "outputs": [
    {
     "name": "stdout",
     "output_type": "stream",
     "text": [
      "+---+\n",
      "|_c0|\n",
      "+---+\n",
      "| AK|\n",
      "| AL|\n",
      "| AR|\n",
      "| AZ|\n",
      "| CA|\n",
      "| CO|\n",
      "| CT|\n",
      "| DC|\n",
      "| DE|\n",
      "| FL|\n",
      "| GA|\n",
      "| HI|\n",
      "| IA|\n",
      "| ID|\n",
      "| IL|\n",
      "| IN|\n",
      "| KS|\n",
      "| KY|\n",
      "| LA|\n",
      "| MA|\n",
      "+---+\n",
      "only showing top 20 rows\n",
      "\n"
     ]
    }
   ],
   "source": [
    "data.select('_c0').dropDuplicates().sort('_c0').show()"
   ]
  },
  {
   "cell_type": "code",
   "execution_count": 28,
   "id": "a52cd803",
   "metadata": {
    "execution": {
     "iopub.execute_input": "2022-03-26T16:58:51.224735Z",
     "iopub.status.busy": "2022-03-26T16:58:51.223665Z",
     "iopub.status.idle": "2022-03-26T16:58:51.555718Z",
     "shell.execute_reply": "2022-03-26T16:58:51.556742Z",
     "shell.execute_reply.started": "2022-03-17T18:22:11.151297Z"
    },
    "papermill": {
     "duration": 0.532259,
     "end_time": "2022-03-26T16:58:51.557051",
     "exception": false,
     "start_time": "2022-03-26T16:58:51.024792",
     "status": "completed"
    },
    "tags": []
   },
   "outputs": [
    {
     "data": {
      "text/plain": [
       "[Row(_c1='116', _c2='415'),\n",
       " Row(_c1='151', _c2='415'),\n",
       " Row(_c1='93', _c2='415'),\n",
       " Row(_c1='96', _c2='510'),\n",
       " Row(_c1='113', _c2='415'),\n",
       " Row(_c1='112', _c2='415'),\n",
       " Row(_c1='60', _c2='415'),\n",
       " Row(_c1='72', _c2='408'),\n",
       " Row(_c1='92', _c2='408'),\n",
       " Row(_c1='103', _c2='415'),\n",
       " Row(_c1='37', _c2='415'),\n",
       " Row(_c1='77', _c2='510'),\n",
       " Row(_c1='138', _c2='510'),\n",
       " Row(_c1='120', _c2='510'),\n",
       " Row(_c1='137', _c2='415'),\n",
       " Row(_c1='95', _c2='415'),\n",
       " Row(_c1='105', _c2='415'),\n",
       " Row(_c1='120', _c2='415'),\n",
       " Row(_c1='33', _c2='408'),\n",
       " Row(_c1='112', _c2='415'),\n",
       " Row(_c1='75', _c2='415'),\n",
       " Row(_c1='87', _c2='415'),\n",
       " Row(_c1='185', _c2='408'),\n",
       " Row(_c1='82', _c2='415')]"
      ]
     },
     "execution_count": 28,
     "metadata": {},
     "output_type": "execute_result"
    }
   ],
   "source": [
    "data.select(['_c1', '_c2']).where(data._c0 == 'CA').collect()"
   ]
  },
  {
   "cell_type": "code",
   "execution_count": 29,
   "id": "23c2f2da",
   "metadata": {
    "execution": {
     "iopub.execute_input": "2022-03-26T16:58:51.911092Z",
     "iopub.status.busy": "2022-03-26T16:58:51.910242Z",
     "iopub.status.idle": "2022-03-26T16:58:52.251537Z",
     "shell.execute_reply": "2022-03-26T16:58:52.252410Z",
     "shell.execute_reply.started": "2022-03-17T18:55:09.798826Z"
    },
    "papermill": {
     "duration": 0.516108,
     "end_time": "2022-03-26T16:58:52.252713",
     "exception": false,
     "start_time": "2022-03-26T16:58:51.736605",
     "status": "completed"
    },
    "tags": []
   },
   "outputs": [
    {
     "data": {
      "text/html": [
       "<div>\n",
       "<style scoped>\n",
       "    .dataframe tbody tr th:only-of-type {\n",
       "        vertical-align: middle;\n",
       "    }\n",
       "\n",
       "    .dataframe tbody tr th {\n",
       "        vertical-align: top;\n",
       "    }\n",
       "\n",
       "    .dataframe thead th {\n",
       "        text-align: right;\n",
       "    }\n",
       "</style>\n",
       "<table border=\"1\" class=\"dataframe\">\n",
       "  <thead>\n",
       "    <tr style=\"text-align: right;\">\n",
       "      <th></th>\n",
       "      <th>_c0</th>\n",
       "      <th>_c1</th>\n",
       "      <th>_c2</th>\n",
       "      <th>_c3</th>\n",
       "      <th>_c4</th>\n",
       "      <th>_c5</th>\n",
       "      <th>_c6</th>\n",
       "      <th>_c7</th>\n",
       "      <th>_c8</th>\n",
       "      <th>_c9</th>\n",
       "      <th>_c10</th>\n",
       "      <th>_c11</th>\n",
       "      <th>_c12</th>\n",
       "      <th>_c13</th>\n",
       "      <th>_c14</th>\n",
       "      <th>_c15</th>\n",
       "      <th>_c16</th>\n",
       "      <th>_c17</th>\n",
       "      <th>_c18</th>\n",
       "      <th>_c19</th>\n",
       "    </tr>\n",
       "  </thead>\n",
       "  <tbody>\n",
       "    <tr>\n",
       "      <th>0</th>\n",
       "      <td>State</td>\n",
       "      <td>Account length</td>\n",
       "      <td>Area code</td>\n",
       "      <td>International plan</td>\n",
       "      <td>Voice mail plan</td>\n",
       "      <td>Number vmail messages</td>\n",
       "      <td>Total day minutes</td>\n",
       "      <td>Total day calls</td>\n",
       "      <td>Total day charge</td>\n",
       "      <td>Total eve minutes</td>\n",
       "      <td>Total eve calls</td>\n",
       "      <td>Total eve charge</td>\n",
       "      <td>Total night minutes</td>\n",
       "      <td>Total night calls</td>\n",
       "      <td>Total night charge</td>\n",
       "      <td>Total intl minutes</td>\n",
       "      <td>Total intl calls</td>\n",
       "      <td>Total intl charge</td>\n",
       "      <td>Customer service calls</td>\n",
       "      <td>Churn</td>\n",
       "    </tr>\n",
       "    <tr>\n",
       "      <th>1</th>\n",
       "      <td>KS</td>\n",
       "      <td>128</td>\n",
       "      <td>415</td>\n",
       "      <td>No</td>\n",
       "      <td>Yes</td>\n",
       "      <td>25</td>\n",
       "      <td>265.1</td>\n",
       "      <td>110</td>\n",
       "      <td>45.07</td>\n",
       "      <td>197.4</td>\n",
       "      <td>99</td>\n",
       "      <td>16.78</td>\n",
       "      <td>244.7</td>\n",
       "      <td>91</td>\n",
       "      <td>11.01</td>\n",
       "      <td>10.0</td>\n",
       "      <td>3</td>\n",
       "      <td>2.7</td>\n",
       "      <td>1</td>\n",
       "      <td>False</td>\n",
       "    </tr>\n",
       "    <tr>\n",
       "      <th>2</th>\n",
       "      <td>OH</td>\n",
       "      <td>107</td>\n",
       "      <td>415</td>\n",
       "      <td>No</td>\n",
       "      <td>Yes</td>\n",
       "      <td>26</td>\n",
       "      <td>161.6</td>\n",
       "      <td>123</td>\n",
       "      <td>27.47</td>\n",
       "      <td>195.5</td>\n",
       "      <td>103</td>\n",
       "      <td>16.62</td>\n",
       "      <td>254.4</td>\n",
       "      <td>103</td>\n",
       "      <td>11.45</td>\n",
       "      <td>13.7</td>\n",
       "      <td>3</td>\n",
       "      <td>3.7</td>\n",
       "      <td>1</td>\n",
       "      <td>False</td>\n",
       "    </tr>\n",
       "    <tr>\n",
       "      <th>3</th>\n",
       "      <td>NJ</td>\n",
       "      <td>137</td>\n",
       "      <td>415</td>\n",
       "      <td>No</td>\n",
       "      <td>No</td>\n",
       "      <td>0</td>\n",
       "      <td>243.4</td>\n",
       "      <td>114</td>\n",
       "      <td>41.38</td>\n",
       "      <td>121.2</td>\n",
       "      <td>110</td>\n",
       "      <td>10.3</td>\n",
       "      <td>162.6</td>\n",
       "      <td>104</td>\n",
       "      <td>7.32</td>\n",
       "      <td>12.2</td>\n",
       "      <td>5</td>\n",
       "      <td>3.29</td>\n",
       "      <td>0</td>\n",
       "      <td>False</td>\n",
       "    </tr>\n",
       "    <tr>\n",
       "      <th>4</th>\n",
       "      <td>OH</td>\n",
       "      <td>84</td>\n",
       "      <td>408</td>\n",
       "      <td>Yes</td>\n",
       "      <td>No</td>\n",
       "      <td>0</td>\n",
       "      <td>299.4</td>\n",
       "      <td>71</td>\n",
       "      <td>50.9</td>\n",
       "      <td>61.9</td>\n",
       "      <td>88</td>\n",
       "      <td>5.26</td>\n",
       "      <td>196.9</td>\n",
       "      <td>89</td>\n",
       "      <td>8.86</td>\n",
       "      <td>6.6</td>\n",
       "      <td>7</td>\n",
       "      <td>1.78</td>\n",
       "      <td>2</td>\n",
       "      <td>False</td>\n",
       "    </tr>\n",
       "    <tr>\n",
       "      <th>...</th>\n",
       "      <td>...</td>\n",
       "      <td>...</td>\n",
       "      <td>...</td>\n",
       "      <td>...</td>\n",
       "      <td>...</td>\n",
       "      <td>...</td>\n",
       "      <td>...</td>\n",
       "      <td>...</td>\n",
       "      <td>...</td>\n",
       "      <td>...</td>\n",
       "      <td>...</td>\n",
       "      <td>...</td>\n",
       "      <td>...</td>\n",
       "      <td>...</td>\n",
       "      <td>...</td>\n",
       "      <td>...</td>\n",
       "      <td>...</td>\n",
       "      <td>...</td>\n",
       "      <td>...</td>\n",
       "      <td>...</td>\n",
       "    </tr>\n",
       "    <tr>\n",
       "      <th>2662</th>\n",
       "      <td>SC</td>\n",
       "      <td>79</td>\n",
       "      <td>415</td>\n",
       "      <td>No</td>\n",
       "      <td>No</td>\n",
       "      <td>0</td>\n",
       "      <td>134.7</td>\n",
       "      <td>98</td>\n",
       "      <td>22.9</td>\n",
       "      <td>189.7</td>\n",
       "      <td>68</td>\n",
       "      <td>16.12</td>\n",
       "      <td>221.4</td>\n",
       "      <td>128</td>\n",
       "      <td>9.96</td>\n",
       "      <td>11.8</td>\n",
       "      <td>5</td>\n",
       "      <td>3.19</td>\n",
       "      <td>2</td>\n",
       "      <td>False</td>\n",
       "    </tr>\n",
       "    <tr>\n",
       "      <th>2663</th>\n",
       "      <td>AZ</td>\n",
       "      <td>192</td>\n",
       "      <td>415</td>\n",
       "      <td>No</td>\n",
       "      <td>Yes</td>\n",
       "      <td>36</td>\n",
       "      <td>156.2</td>\n",
       "      <td>77</td>\n",
       "      <td>26.55</td>\n",
       "      <td>215.5</td>\n",
       "      <td>126</td>\n",
       "      <td>18.32</td>\n",
       "      <td>279.1</td>\n",
       "      <td>83</td>\n",
       "      <td>12.56</td>\n",
       "      <td>9.9</td>\n",
       "      <td>6</td>\n",
       "      <td>2.67</td>\n",
       "      <td>2</td>\n",
       "      <td>False</td>\n",
       "    </tr>\n",
       "    <tr>\n",
       "      <th>2664</th>\n",
       "      <td>WV</td>\n",
       "      <td>68</td>\n",
       "      <td>415</td>\n",
       "      <td>No</td>\n",
       "      <td>No</td>\n",
       "      <td>0</td>\n",
       "      <td>231.1</td>\n",
       "      <td>57</td>\n",
       "      <td>39.29</td>\n",
       "      <td>153.4</td>\n",
       "      <td>55</td>\n",
       "      <td>13.04</td>\n",
       "      <td>191.3</td>\n",
       "      <td>123</td>\n",
       "      <td>8.61</td>\n",
       "      <td>9.6</td>\n",
       "      <td>4</td>\n",
       "      <td>2.59</td>\n",
       "      <td>3</td>\n",
       "      <td>False</td>\n",
       "    </tr>\n",
       "    <tr>\n",
       "      <th>2665</th>\n",
       "      <td>RI</td>\n",
       "      <td>28</td>\n",
       "      <td>510</td>\n",
       "      <td>No</td>\n",
       "      <td>No</td>\n",
       "      <td>0</td>\n",
       "      <td>180.8</td>\n",
       "      <td>109</td>\n",
       "      <td>30.74</td>\n",
       "      <td>288.8</td>\n",
       "      <td>58</td>\n",
       "      <td>24.55</td>\n",
       "      <td>191.9</td>\n",
       "      <td>91</td>\n",
       "      <td>8.64</td>\n",
       "      <td>14.1</td>\n",
       "      <td>6</td>\n",
       "      <td>3.81</td>\n",
       "      <td>2</td>\n",
       "      <td>False</td>\n",
       "    </tr>\n",
       "    <tr>\n",
       "      <th>2666</th>\n",
       "      <td>TN</td>\n",
       "      <td>74</td>\n",
       "      <td>415</td>\n",
       "      <td>No</td>\n",
       "      <td>Yes</td>\n",
       "      <td>25</td>\n",
       "      <td>234.4</td>\n",
       "      <td>113</td>\n",
       "      <td>39.85</td>\n",
       "      <td>265.9</td>\n",
       "      <td>82</td>\n",
       "      <td>22.6</td>\n",
       "      <td>241.4</td>\n",
       "      <td>77</td>\n",
       "      <td>10.86</td>\n",
       "      <td>13.7</td>\n",
       "      <td>4</td>\n",
       "      <td>3.7</td>\n",
       "      <td>0</td>\n",
       "      <td>False</td>\n",
       "    </tr>\n",
       "  </tbody>\n",
       "</table>\n",
       "<p>2667 rows × 20 columns</p>\n",
       "</div>"
      ],
      "text/plain": [
       "        _c0             _c1        _c2                 _c3              _c4  \\\n",
       "0     State  Account length  Area code  International plan  Voice mail plan   \n",
       "1        KS             128        415                  No              Yes   \n",
       "2        OH             107        415                  No              Yes   \n",
       "3        NJ             137        415                  No               No   \n",
       "4        OH              84        408                 Yes               No   \n",
       "...     ...             ...        ...                 ...              ...   \n",
       "2662     SC              79        415                  No               No   \n",
       "2663     AZ             192        415                  No              Yes   \n",
       "2664     WV              68        415                  No               No   \n",
       "2665     RI              28        510                  No               No   \n",
       "2666     TN              74        415                  No              Yes   \n",
       "\n",
       "                        _c5                _c6              _c7  \\\n",
       "0     Number vmail messages  Total day minutes  Total day calls   \n",
       "1                        25              265.1              110   \n",
       "2                        26              161.6              123   \n",
       "3                         0              243.4              114   \n",
       "4                         0              299.4               71   \n",
       "...                     ...                ...              ...   \n",
       "2662                      0              134.7               98   \n",
       "2663                     36              156.2               77   \n",
       "2664                      0              231.1               57   \n",
       "2665                      0              180.8              109   \n",
       "2666                     25              234.4              113   \n",
       "\n",
       "                   _c8                _c9             _c10              _c11  \\\n",
       "0     Total day charge  Total eve minutes  Total eve calls  Total eve charge   \n",
       "1                45.07              197.4               99             16.78   \n",
       "2                27.47              195.5              103             16.62   \n",
       "3                41.38              121.2              110              10.3   \n",
       "4                 50.9               61.9               88              5.26   \n",
       "...                ...                ...              ...               ...   \n",
       "2662              22.9              189.7               68             16.12   \n",
       "2663             26.55              215.5              126             18.32   \n",
       "2664             39.29              153.4               55             13.04   \n",
       "2665             30.74              288.8               58             24.55   \n",
       "2666             39.85              265.9               82              22.6   \n",
       "\n",
       "                     _c12               _c13                _c14  \\\n",
       "0     Total night minutes  Total night calls  Total night charge   \n",
       "1                   244.7                 91               11.01   \n",
       "2                   254.4                103               11.45   \n",
       "3                   162.6                104                7.32   \n",
       "4                   196.9                 89                8.86   \n",
       "...                   ...                ...                 ...   \n",
       "2662                221.4                128                9.96   \n",
       "2663                279.1                 83               12.56   \n",
       "2664                191.3                123                8.61   \n",
       "2665                191.9                 91                8.64   \n",
       "2666                241.4                 77               10.86   \n",
       "\n",
       "                    _c15              _c16               _c17  \\\n",
       "0     Total intl minutes  Total intl calls  Total intl charge   \n",
       "1                   10.0                 3                2.7   \n",
       "2                   13.7                 3                3.7   \n",
       "3                   12.2                 5               3.29   \n",
       "4                    6.6                 7               1.78   \n",
       "...                  ...               ...                ...   \n",
       "2662                11.8                 5               3.19   \n",
       "2663                 9.9                 6               2.67   \n",
       "2664                 9.6                 4               2.59   \n",
       "2665                14.1                 6               3.81   \n",
       "2666                13.7                 4                3.7   \n",
       "\n",
       "                        _c18   _c19  \n",
       "0     Customer service calls  Churn  \n",
       "1                          1  False  \n",
       "2                          1  False  \n",
       "3                          0  False  \n",
       "4                          2  False  \n",
       "...                      ...    ...  \n",
       "2662                       2  False  \n",
       "2663                       2  False  \n",
       "2664                       3  False  \n",
       "2665                       2  False  \n",
       "2666                       0  False  \n",
       "\n",
       "[2667 rows x 20 columns]"
      ]
     },
     "execution_count": 29,
     "metadata": {},
     "output_type": "execute_result"
    }
   ],
   "source": [
    "data.toPandas()"
   ]
  },
  {
   "cell_type": "code",
   "execution_count": null,
   "id": "9624b858",
   "metadata": {
    "papermill": {
     "duration": 0.166984,
     "end_time": "2022-03-26T16:58:52.696149",
     "exception": false,
     "start_time": "2022-03-26T16:58:52.529165",
     "status": "completed"
    },
    "tags": []
   },
   "outputs": [],
   "source": []
  }
 ],
 "metadata": {
  "kernelspec": {
   "display_name": "Python 3",
   "language": "python",
   "name": "python3"
  },
  "language_info": {
   "codemirror_mode": {
    "name": "ipython",
    "version": 3
   },
   "file_extension": ".py",
   "mimetype": "text/x-python",
   "name": "python",
   "nbconvert_exporter": "python",
   "pygments_lexer": "ipython3",
   "version": "3.7.12"
  },
  "papermill": {
   "default_parameters": {},
   "duration": 90.298647,
   "end_time": "2022-03-26T16:58:53.977433",
   "environment_variables": {},
   "exception": null,
   "input_path": "__notebook__.ipynb",
   "output_path": "__notebook__.ipynb",
   "parameters": {},
   "start_time": "2022-03-26T16:57:23.678786",
   "version": "2.3.3"
  }
 },
 "nbformat": 4,
 "nbformat_minor": 5
}
