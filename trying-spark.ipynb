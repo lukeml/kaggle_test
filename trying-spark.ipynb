{
 "cells": [
  {
   "cell_type": "markdown",
   "id": "66f7ae97",
   "metadata": {
    "papermill": {
     "duration": 0.024915,
     "end_time": "2022-04-02T21:03:44.598100",
     "exception": false,
     "start_time": "2022-04-02T21:03:44.573185",
     "status": "completed"
    },
    "tags": []
   },
   "source": [
    "Trying Spark on this data.\n",
    "\n",
    "(1) \n",
    "https://www.kaggle.com/kkhandekar/apache-spark-beginner-tutorial\n",
    "\n",
    "(2) \n",
    "https://www.kaggle.com/tylerx/machine-learning-with-spark\n",
    "\n",
    "(3) \n",
    "https://www.kaggle.com/anninasimon/pyspark-basics-for-beginners-part-1\n",
    "\n",
    "https://www.kaggle.com/anninasimon/pyspark-basics-part-2\n",
    "\n",
    "(4)\n",
    "https://www.kaggle.com/nilaychauhan/pyspark-tutorial-for-beginners\n",
    "\n"
   ]
  },
  {
   "cell_type": "markdown",
   "id": "e2ab76af",
   "metadata": {
    "papermill": {
     "duration": 0.023683,
     "end_time": "2022-04-02T21:03:44.646583",
     "exception": false,
     "start_time": "2022-04-02T21:03:44.622900",
     "status": "completed"
    },
    "tags": []
   },
   "source": [
    "### Trying (4)"
   ]
  },
  {
   "cell_type": "code",
   "execution_count": 1,
   "id": "ee3dd69f",
   "metadata": {
    "_cell_guid": "b1076dfc-b9ad-4769-8c92-a6c4dae69d19",
    "_uuid": "8f2839f25d086af736a60e9eeb907d3b93b6e0e5",
    "execution": {
     "iopub.execute_input": "2022-04-02T21:03:44.701909Z",
     "iopub.status.busy": "2022-04-02T21:03:44.701464Z",
     "iopub.status.idle": "2022-04-02T21:03:44.713566Z",
     "shell.execute_reply": "2022-04-02T21:03:44.713068Z",
     "shell.execute_reply.started": "2022-03-26T16:55:21.06677Z"
    },
    "papermill": {
     "duration": 0.043171,
     "end_time": "2022-04-02T21:03:44.713666",
     "exception": false,
     "start_time": "2022-04-02T21:03:44.670495",
     "status": "completed"
    },
    "tags": []
   },
   "outputs": [
    {
     "name": "stdout",
     "output_type": "stream",
     "text": [
      "/kaggle/input/telecom-churn-datasets/churn-bigml-20.csv\n",
      "/kaggle/input/telecom-churn-datasets/churn-bigml-80.csv\n"
     ]
    }
   ],
   "source": [
    "# This Python 3 environment comes with many helpful analytics libraries installed\n",
    "# It is defined by the kaggle/python Docker image: https://github.com/kaggle/docker-python\n",
    "# For example, here's several helpful packages to load\n",
    "\n",
    "import numpy as np # linear algebra\n",
    "import pandas as pd # data processing, CSV file I/O (e.g. pd.read_csv)\n",
    "\n",
    "# Input data files are available in the read-only \"../input/\" directory\n",
    "# For example, running this (by clicking run or pressing Shift+Enter) will list all files under the input directory\n",
    "\n",
    "import os\n",
    "for dirname, _, filenames in os.walk('/kaggle/input'):\n",
    "    for filename in filenames:\n",
    "        print(os.path.join(dirname, filename))\n",
    "\n",
    "# You can write up to 20GB to the current directory (/kaggle/working/) that gets preserved as output when you create a version using \"Save & Run All\" \n",
    "# You can also write temporary files to /kaggle/temp/, but they won't be saved outside of the current session"
   ]
  },
  {
   "cell_type": "code",
   "execution_count": 2,
   "id": "04d4ae07",
   "metadata": {
    "execution": {
     "iopub.execute_input": "2022-04-02T21:03:44.765967Z",
     "iopub.status.busy": "2022-04-02T21:03:44.765551Z",
     "iopub.status.idle": "2022-04-02T21:03:44.771185Z",
     "shell.execute_reply": "2022-04-02T21:03:44.771611Z",
     "shell.execute_reply.started": "2022-03-26T16:55:29.651973Z"
    },
    "papermill": {
     "duration": 0.032698,
     "end_time": "2022-04-02T21:03:44.771719",
     "exception": false,
     "start_time": "2022-04-02T21:03:44.739021",
     "status": "completed"
    },
    "tags": []
   },
   "outputs": [],
   "source": [
    "%matplotlib inline\n",
    "import matplotlib.pyplot as plt\n",
    "\n",
    "import datetime\n"
   ]
  },
  {
   "cell_type": "markdown",
   "id": "69ddafe3",
   "metadata": {
    "papermill": {
     "duration": 0.024265,
     "end_time": "2022-04-02T21:03:44.820473",
     "exception": false,
     "start_time": "2022-04-02T21:03:44.796208",
     "status": "completed"
    },
    "tags": []
   },
   "source": [
    "### \"pip install forever\"\n",
    "https://www.kaggle.com/samsammurphy/pip-install-forever\n",
    "\n",
    "\n",
    "pip install forever\n",
    "\n",
    "Install a pip package permenantly in the /kaggle/working directory\n",
    "\n",
    "Requires Save Version > Advanced Settings > Save output for this version\n"
   ]
  },
  {
   "cell_type": "code",
   "execution_count": 3,
   "id": "e6044961",
   "metadata": {
    "execution": {
     "iopub.execute_input": "2022-04-02T21:03:44.872242Z",
     "iopub.status.busy": "2022-04-02T21:03:44.871807Z",
     "iopub.status.idle": "2022-04-02T21:04:20.017601Z",
     "shell.execute_reply": "2022-04-02T21:04:20.016979Z",
     "shell.execute_reply.started": "2022-03-26T17:01:37.863486Z"
    },
    "papermill": {
     "duration": 35.172999,
     "end_time": "2022-04-02T21:04:20.017725",
     "exception": false,
     "start_time": "2022-04-02T21:03:44.844726",
     "status": "completed"
    },
    "tags": []
   },
   "outputs": [
    {
     "name": "stdout",
     "output_type": "stream",
     "text": [
      "Collecting pyspark\r\n",
      "  Downloading pyspark-3.2.1.tar.gz (281.4 MB)\r\n",
      "     |████████████████████████████████| 281.4 MB 44 kB/s              \r\n",
      "\u001b[?25h  Preparing metadata (setup.py) ... \u001b[?25l-\b \bdone\r\n",
      "\u001b[?25hCollecting py4j==0.10.9.3\r\n",
      "  Downloading py4j-0.10.9.3-py2.py3-none-any.whl (198 kB)\r\n",
      "     |████████████████████████████████| 198 kB 90.2 MB/s            \r\n",
      "\u001b[?25hBuilding wheels for collected packages: pyspark\r\n",
      "  Building wheel for pyspark (setup.py) ... \u001b[?25l-\b \b\\\b \b|\b \b/\b \b-\b \b\\\b \b|\b \b/\b \b-\b \b\\\b \b|\b \b/\b \b-\b \b\\\b \b|\b \b/\b \b-\b \b\\\b \b|\b \b/\b \b-\b \b\\\b \b|\b \b/\b \b-\b \b\\\b \b|\b \b/\b \b-\b \b\\\b \b|\b \b/\b \b-\b \b\\\b \b|\b \b/\b \b-\b \b\\\b \b|\b \b/\b \b-\b \b\\\b \b|\b \b/\b \b-\b \b\\\b \b|\b \b/\b \b-\b \b\\\b \b|\b \bdone\r\n",
      "\u001b[?25h  Created wheel for pyspark: filename=pyspark-3.2.1-py2.py3-none-any.whl size=281853642 sha256=f9f296b16cb17a7e610acf4de9314770222167ec01339a53177ad64f9903ce26\r\n",
      "  Stored in directory: /root/.cache/pip/wheels/9f/f5/07/7cd8017084dce4e93e84e92efd1e1d5334db05f2e83bcef74f\r\n",
      "Successfully built pyspark\r\n",
      "Installing collected packages: py4j, pyspark\r\n",
      "Successfully installed py4j-0.10.9.3 pyspark-3.2.1\r\n",
      "\u001b[33mWARNING: Running pip as the 'root' user can result in broken permissions and conflicting behaviour with the system package manager. It is recommended to use a virtual environment instead: https://pip.pypa.io/warnings/venv\u001b[0m\r\n"
     ]
    }
   ],
   "source": [
    "#install Apache Spark\n",
    "!pip install pyspark --target=/kaggle/working/mysitepackages"
   ]
  },
  {
   "cell_type": "code",
   "execution_count": 4,
   "id": "3fbbadf4",
   "metadata": {
    "execution": {
     "iopub.execute_input": "2022-04-02T21:04:20.319013Z",
     "iopub.status.busy": "2022-04-02T21:04:20.318450Z",
     "iopub.status.idle": "2022-04-02T21:04:20.321466Z",
     "shell.execute_reply": "2022-04-02T21:04:20.322021Z",
     "shell.execute_reply.started": "2022-03-26T17:04:55.55655Z"
    },
    "papermill": {
     "duration": 0.150948,
     "end_time": "2022-04-02T21:04:20.322161",
     "exception": false,
     "start_time": "2022-04-02T21:04:20.171213",
     "status": "completed"
    },
    "tags": []
   },
   "outputs": [],
   "source": [
    "import sys\n",
    "sys.path.append('/kaggle/working/mysitepackages')"
   ]
  },
  {
   "cell_type": "code",
   "execution_count": 5,
   "id": "0797e2b3",
   "metadata": {
    "execution": {
     "iopub.execute_input": "2022-04-02T21:04:20.644097Z",
     "iopub.status.busy": "2022-04-02T21:04:20.643493Z",
     "iopub.status.idle": "2022-04-02T21:04:20.933072Z",
     "shell.execute_reply": "2022-04-02T21:04:20.933584Z",
     "shell.execute_reply.started": "2022-03-26T17:05:21.809129Z"
    },
    "papermill": {
     "duration": 0.455041,
     "end_time": "2022-04-02T21:04:20.933733",
     "exception": false,
     "start_time": "2022-04-02T21:04:20.478692",
     "status": "completed"
    },
    "tags": []
   },
   "outputs": [
    {
     "name": "stdout",
     "output_type": "stream",
     "text": [
      "bin  py4j  py4j-0.10.9.3.dist-info  pyspark  pyspark-3.2.1.dist-info  share\r\n"
     ]
    }
   ],
   "source": [
    "!ls /kaggle/working/mysitepackages/"
   ]
  },
  {
   "cell_type": "code",
   "execution_count": 6,
   "id": "df345c32",
   "metadata": {
    "execution": {
     "iopub.execute_input": "2022-04-02T21:04:21.260714Z",
     "iopub.status.busy": "2022-04-02T21:04:21.259908Z",
     "iopub.status.idle": "2022-04-02T21:04:21.291050Z",
     "shell.execute_reply": "2022-04-02T21:04:21.291556Z",
     "shell.execute_reply.started": "2022-03-26T17:05:23.713437Z"
    },
    "papermill": {
     "duration": 0.19355,
     "end_time": "2022-04-02T21:04:21.291695",
     "exception": false,
     "start_time": "2022-04-02T21:04:21.098145",
     "status": "completed"
    },
    "tags": []
   },
   "outputs": [],
   "source": [
    "import pyspark"
   ]
  },
  {
   "cell_type": "code",
   "execution_count": 7,
   "id": "153e3e56",
   "metadata": {
    "execution": {
     "iopub.execute_input": "2022-04-02T21:04:21.821557Z",
     "iopub.status.busy": "2022-04-02T21:04:21.820671Z",
     "iopub.status.idle": "2022-04-02T21:04:22.561695Z",
     "shell.execute_reply": "2022-04-02T21:04:22.561192Z",
     "shell.execute_reply.started": "2022-03-17T19:08:58.824429Z"
    },
    "papermill": {
     "duration": 1.114419,
     "end_time": "2022-04-02T21:04:22.561815",
     "exception": false,
     "start_time": "2022-04-02T21:04:21.447396",
     "status": "completed"
    },
    "tags": []
   },
   "outputs": [],
   "source": [
    "#Apache Spark Libraries\n",
    "# import pyspark\n",
    "from pyspark import SparkConf\n",
    "from pyspark.sql import SparkSession\n",
    "\n",
    "#Apache Spark ML CLassifier Libraries\n",
    "from pyspark.ml.classification import DecisionTreeClassifier,RandomForestClassifier,NaiveBayes\n",
    "\n",
    "\n",
    "#Apache Spark Evaluation Library\n",
    "from pyspark.ml.evaluation import MulticlassClassificationEvaluator\n",
    "\n",
    "#Apache Spark Features libraries\n",
    "from pyspark.ml.feature import StandardScaler,StringIndexer, VectorAssembler, VectorIndexer, OneHotEncoder\n",
    "\n",
    "#Apache Spark Pipelin Library\n",
    "from pyspark.ml import Pipeline\n",
    "\n",
    "# Apache Spark `DenseVector`\n",
    "from pyspark.ml.linalg import DenseVector\n",
    "\n",
    "#Data Split Libraries\n",
    "import sklearn\n",
    "from sklearn.model_selection import train_test_split\n",
    "\n",
    "\n",
    "#Tabulating Data\n",
    "from tabulate import tabulate\n",
    "\n",
    "#Garbage\n",
    "import gc"
   ]
  },
  {
   "cell_type": "code",
   "execution_count": 8,
   "id": "3080103d",
   "metadata": {
    "execution": {
     "iopub.execute_input": "2022-04-02T21:04:22.868644Z",
     "iopub.status.busy": "2022-04-02T21:04:22.868008Z",
     "iopub.status.idle": "2022-04-02T21:04:22.870009Z",
     "shell.execute_reply": "2022-04-02T21:04:22.870538Z",
     "shell.execute_reply.started": "2022-03-17T18:06:05.313828Z"
    },
    "papermill": {
     "duration": 0.159517,
     "end_time": "2022-04-02T21:04:22.870678",
     "exception": false,
     "start_time": "2022-04-02T21:04:22.711161",
     "status": "completed"
    },
    "tags": []
   },
   "outputs": [],
   "source": [
    "# !java -version"
   ]
  },
  {
   "cell_type": "code",
   "execution_count": 9,
   "id": "6478f161",
   "metadata": {
    "execution": {
     "iopub.execute_input": "2022-04-02T21:04:23.181699Z",
     "iopub.status.busy": "2022-04-02T21:04:23.181073Z",
     "iopub.status.idle": "2022-04-02T21:04:26.736712Z",
     "shell.execute_reply": "2022-04-02T21:04:26.736189Z",
     "shell.execute_reply.started": "2022-03-17T18:03:59.544614Z"
    },
    "papermill": {
     "duration": 3.712664,
     "end_time": "2022-04-02T21:04:26.736828",
     "exception": false,
     "start_time": "2022-04-02T21:04:23.024164",
     "status": "completed"
    },
    "tags": []
   },
   "outputs": [
    {
     "name": "stderr",
     "output_type": "stream",
     "text": [
      "WARNING: An illegal reflective access operation has occurred\n",
      "WARNING: Illegal reflective access by org.apache.spark.unsafe.Platform (file:/kaggle/working/mysitepackages/pyspark/jars/spark-unsafe_2.12-3.2.1.jar) to constructor java.nio.DirectByteBuffer(long,int)\n",
      "WARNING: Please consider reporting this to the maintainers of org.apache.spark.unsafe.Platform\n",
      "WARNING: Use --illegal-access=warn to enable warnings of further illegal reflective access operations\n",
      "WARNING: All illegal access operations will be denied in a future release\n",
      "Using Spark's default log4j profile: org/apache/spark/log4j-defaults.properties\n",
      "Setting default log level to \"WARN\".\n",
      "To adjust logging level use sc.setLogLevel(newLevel). For SparkR, use setLogLevel(newLevel).\n",
      "22/04/02 21:04:25 WARN NativeCodeLoader: Unable to load native-hadoop library for your platform... using builtin-java classes where applicable\n"
     ]
    }
   ],
   "source": [
    "sc = pyspark.SparkContext(appName=\"intro_to_spark\")"
   ]
  },
  {
   "cell_type": "code",
   "execution_count": 10,
   "id": "94d63411",
   "metadata": {
    "execution": {
     "iopub.execute_input": "2022-04-02T21:04:27.039243Z",
     "iopub.status.busy": "2022-04-02T21:04:27.038820Z",
     "iopub.status.idle": "2022-04-02T21:04:27.329872Z",
     "shell.execute_reply": "2022-04-02T21:04:27.329234Z",
     "shell.execute_reply.started": "2022-03-17T18:07:04.360004Z"
    },
    "papermill": {
     "duration": 0.476127,
     "end_time": "2022-04-02T21:04:27.330015",
     "exception": false,
     "start_time": "2022-04-02T21:04:26.853888",
     "status": "completed"
    },
    "tags": []
   },
   "outputs": [],
   "source": [
    "log_of_songs = [\n",
    "        \"Despacito\",\n",
    "        \"Nice for what\",\n",
    "        \"No tears left to cry\",\n",
    "        \"Despacito\",\n",
    "        \"Havana\",\n",
    "        \"In my feelings\",\n",
    "        \"Nice for what\",\n",
    "        \"despacito\",\n",
    "        \"All the stars\"\n",
    "]\n",
    "\n",
    "# parallelize the log_of_songs to use with Spark\n",
    "distributed_song_log = sc.parallelize(log_of_songs)"
   ]
  },
  {
   "cell_type": "code",
   "execution_count": 11,
   "id": "3fb5530f",
   "metadata": {
    "execution": {
     "iopub.execute_input": "2022-04-02T21:04:27.588215Z",
     "iopub.status.busy": "2022-04-02T21:04:27.587548Z",
     "iopub.status.idle": "2022-04-02T21:04:27.592612Z",
     "shell.execute_reply": "2022-04-02T21:04:27.593105Z",
     "shell.execute_reply.started": "2022-03-17T18:08:05.559748Z"
    },
    "papermill": {
     "duration": 0.1179,
     "end_time": "2022-04-02T21:04:27.593260",
     "exception": false,
     "start_time": "2022-04-02T21:04:27.475360",
     "status": "completed"
    },
    "tags": []
   },
   "outputs": [
    {
     "data": {
      "text/plain": [
       "ParallelCollectionRDD[0] at readRDDFromFile at PythonRDD.scala:274"
      ]
     },
     "execution_count": 11,
     "metadata": {},
     "output_type": "execute_result"
    }
   ],
   "source": [
    "distributed_song_log"
   ]
  },
  {
   "cell_type": "code",
   "execution_count": 12,
   "id": "94c05c26",
   "metadata": {
    "execution": {
     "iopub.execute_input": "2022-04-02T21:04:27.912759Z",
     "iopub.status.busy": "2022-04-02T21:04:27.911537Z",
     "iopub.status.idle": "2022-04-02T21:04:27.915020Z",
     "shell.execute_reply": "2022-04-02T21:04:27.915507Z",
     "shell.execute_reply.started": "2022-03-17T18:09:55.086523Z"
    },
    "papermill": {
     "duration": 0.165292,
     "end_time": "2022-04-02T21:04:27.915661",
     "exception": false,
     "start_time": "2022-04-02T21:04:27.750369",
     "status": "completed"
    },
    "tags": []
   },
   "outputs": [
    {
     "data": {
      "text/plain": [
       "ParallelCollectionRDD[0] at readRDDFromFile at PythonRDD.scala:274"
      ]
     },
     "execution_count": 12,
     "metadata": {},
     "output_type": "execute_result"
    }
   ],
   "source": [
    "distributed_song_log"
   ]
  },
  {
   "cell_type": "code",
   "execution_count": 13,
   "id": "d2879f56",
   "metadata": {
    "execution": {
     "iopub.execute_input": "2022-04-02T21:04:28.233329Z",
     "iopub.status.busy": "2022-04-02T21:04:28.232751Z",
     "iopub.status.idle": "2022-04-02T21:04:28.747036Z",
     "shell.execute_reply": "2022-04-02T21:04:28.747699Z",
     "shell.execute_reply.started": "2022-03-17T18:09:43.039657Z"
    },
    "papermill": {
     "duration": 0.674754,
     "end_time": "2022-04-02T21:04:28.747857",
     "exception": false,
     "start_time": "2022-04-02T21:04:28.073103",
     "status": "completed"
    },
    "tags": []
   },
   "outputs": [
    {
     "data": {
      "text/plain": [
       "['Despacito',\n",
       " 'Nice for what',\n",
       " 'No tears left to cry',\n",
       " 'Despacito',\n",
       " 'Havana',\n",
       " 'In my feelings',\n",
       " 'Nice for what',\n",
       " 'despacito',\n",
       " 'All the stars']"
      ]
     },
     "execution_count": 13,
     "metadata": {},
     "output_type": "execute_result"
    }
   ],
   "source": [
    "distributed_song_log.collect()"
   ]
  },
  {
   "cell_type": "code",
   "execution_count": 14,
   "id": "ead2afab",
   "metadata": {
    "execution": {
     "iopub.execute_input": "2022-04-02T21:04:28.973111Z",
     "iopub.status.busy": "2022-04-02T21:04:28.972668Z",
     "iopub.status.idle": "2022-04-02T21:04:28.975492Z",
     "shell.execute_reply": "2022-04-02T21:04:28.975914Z",
     "shell.execute_reply.started": "2022-03-17T18:07:16.897415Z"
    },
    "papermill": {
     "duration": 0.117228,
     "end_time": "2022-04-02T21:04:28.976018",
     "exception": false,
     "start_time": "2022-04-02T21:04:28.858790",
     "status": "completed"
    },
    "tags": []
   },
   "outputs": [],
   "source": [
    "def convert_song_to_lowercase(song):\n",
    "    return song.lower()"
   ]
  },
  {
   "cell_type": "code",
   "execution_count": 15,
   "id": "c3deac63",
   "metadata": {
    "execution": {
     "iopub.execute_input": "2022-04-02T21:04:29.202033Z",
     "iopub.status.busy": "2022-04-02T21:04:29.201571Z",
     "iopub.status.idle": "2022-04-02T21:04:29.816220Z",
     "shell.execute_reply": "2022-04-02T21:04:29.815770Z",
     "shell.execute_reply.started": "2022-03-17T18:07:37.214025Z"
    },
    "papermill": {
     "duration": 0.729616,
     "end_time": "2022-04-02T21:04:29.816314",
     "exception": false,
     "start_time": "2022-04-02T21:04:29.086698",
     "status": "completed"
    },
    "tags": []
   },
   "outputs": [
    {
     "name": "stderr",
     "output_type": "stream",
     "text": [
      "                                                                                \r"
     ]
    },
    {
     "data": {
      "text/plain": [
       "['despacito',\n",
       " 'nice for what',\n",
       " 'no tears left to cry',\n",
       " 'despacito',\n",
       " 'havana',\n",
       " 'in my feelings',\n",
       " 'nice for what',\n",
       " 'despacito',\n",
       " 'all the stars']"
      ]
     },
     "execution_count": 15,
     "metadata": {},
     "output_type": "execute_result"
    }
   ],
   "source": [
    "distributed_song_log.map(convert_song_to_lowercase).collect()"
   ]
  },
  {
   "cell_type": "code",
   "execution_count": 16,
   "id": "824a0bfe",
   "metadata": {
    "execution": {
     "iopub.execute_input": "2022-04-02T21:04:30.043694Z",
     "iopub.status.busy": "2022-04-02T21:04:30.043237Z",
     "iopub.status.idle": "2022-04-02T21:04:31.009974Z",
     "shell.execute_reply": "2022-04-02T21:04:31.009518Z",
     "shell.execute_reply.started": "2022-03-17T18:12:57.483966Z"
    },
    "papermill": {
     "duration": 1.081816,
     "end_time": "2022-04-02T21:04:31.010081",
     "exception": false,
     "start_time": "2022-04-02T21:04:29.928265",
     "status": "completed"
    },
    "tags": []
   },
   "outputs": [],
   "source": [
    "spark = SparkSession \\\n",
    "    .builder \\\n",
    "    .appName(\"intro_to_spark\") \\\n",
    "    .getOrCreate()"
   ]
  },
  {
   "cell_type": "code",
   "execution_count": 17,
   "id": "f5c1de72",
   "metadata": {
    "execution": {
     "iopub.execute_input": "2022-04-02T21:04:31.235915Z",
     "iopub.status.busy": "2022-04-02T21:04:31.235224Z",
     "iopub.status.idle": "2022-04-02T21:04:31.262269Z",
     "shell.execute_reply": "2022-04-02T21:04:31.262818Z",
     "shell.execute_reply.started": "2022-03-17T18:13:22.830815Z"
    },
    "papermill": {
     "duration": 0.141934,
     "end_time": "2022-04-02T21:04:31.262987",
     "exception": false,
     "start_time": "2022-04-02T21:04:31.121053",
     "status": "completed"
    },
    "tags": []
   },
   "outputs": [
    {
     "data": {
      "text/plain": [
       "[('spark.app.id', 'local-1648933466292'),\n",
       " ('spark.app.name', 'intro_to_spark'),\n",
       " ('spark.rdd.compress', 'True'),\n",
       " ('spark.serializer.objectStreamReset', '100'),\n",
       " ('spark.driver.port', '36983'),\n",
       " ('spark.driver.host', 'cdeb90e7cfa3'),\n",
       " ('spark.master', 'local[*]'),\n",
       " ('spark.submit.pyFiles', ''),\n",
       " ('spark.executor.id', 'driver'),\n",
       " ('spark.submit.deployMode', 'client'),\n",
       " ('spark.sql.warehouse.dir', 'file:/kaggle/working/spark-warehouse'),\n",
       " ('spark.app.startTime', '1648933465081'),\n",
       " ('spark.ui.showConsoleProgress', 'true')]"
      ]
     },
     "execution_count": 17,
     "metadata": {},
     "output_type": "execute_result"
    }
   ],
   "source": [
    "spark.sparkContext.getConf().getAll()"
   ]
  },
  {
   "cell_type": "code",
   "execution_count": 18,
   "id": "a2d4ba4b",
   "metadata": {
    "execution": {
     "iopub.execute_input": "2022-04-02T21:04:31.546327Z",
     "iopub.status.busy": "2022-04-02T21:04:31.545678Z",
     "iopub.status.idle": "2022-04-02T21:04:31.552177Z",
     "shell.execute_reply": "2022-04-02T21:04:31.551728Z",
     "shell.execute_reply.started": "2022-03-17T18:13:45.459113Z"
    },
    "papermill": {
     "duration": 0.128973,
     "end_time": "2022-04-02T21:04:31.552288",
     "exception": false,
     "start_time": "2022-04-02T21:04:31.423315",
     "status": "completed"
    },
    "tags": []
   },
   "outputs": [
    {
     "data": {
      "text/html": [
       "\n",
       "            <div>\n",
       "                <p><b>SparkSession - in-memory</b></p>\n",
       "                \n",
       "        <div>\n",
       "            <p><b>SparkContext</b></p>\n",
       "\n",
       "            <p><a href=\"http://cdeb90e7cfa3:4040\">Spark UI</a></p>\n",
       "\n",
       "            <dl>\n",
       "              <dt>Version</dt>\n",
       "                <dd><code>v3.2.1</code></dd>\n",
       "              <dt>Master</dt>\n",
       "                <dd><code>local[*]</code></dd>\n",
       "              <dt>AppName</dt>\n",
       "                <dd><code>intro_to_spark</code></dd>\n",
       "            </dl>\n",
       "        </div>\n",
       "        \n",
       "            </div>\n",
       "        "
      ],
      "text/plain": [
       "<pyspark.sql.session.SparkSession at 0x7fb958e9fe90>"
      ]
     },
     "execution_count": 18,
     "metadata": {},
     "output_type": "execute_result"
    }
   ],
   "source": [
    "spark"
   ]
  },
  {
   "cell_type": "code",
   "execution_count": 19,
   "id": "592e08da",
   "metadata": {
    "execution": {
     "iopub.execute_input": "2022-04-02T21:04:31.775616Z",
     "iopub.status.busy": "2022-04-02T21:04:31.775146Z",
     "iopub.status.idle": "2022-04-02T21:04:34.938925Z",
     "shell.execute_reply": "2022-04-02T21:04:34.938277Z",
     "shell.execute_reply.started": "2022-03-17T18:15:27.179327Z"
    },
    "papermill": {
     "duration": 3.276238,
     "end_time": "2022-04-02T21:04:34.939051",
     "exception": false,
     "start_time": "2022-04-02T21:04:31.662813",
     "status": "completed"
    },
    "tags": []
   },
   "outputs": [],
   "source": [
    "path = \"../input/telecom-churn-datasets/churn-bigml-80.csv\"\n",
    "data = spark.read.csv(path)"
   ]
  },
  {
   "cell_type": "code",
   "execution_count": 20,
   "id": "7b8e4ac4",
   "metadata": {
    "execution": {
     "iopub.execute_input": "2022-04-02T21:04:35.263484Z",
     "iopub.status.busy": "2022-04-02T21:04:35.262830Z",
     "iopub.status.idle": "2022-04-02T21:04:35.277304Z",
     "shell.execute_reply": "2022-04-02T21:04:35.276754Z",
     "shell.execute_reply.started": "2022-03-17T18:15:52.336631Z"
    },
    "papermill": {
     "duration": 0.177599,
     "end_time": "2022-04-02T21:04:35.277463",
     "exception": false,
     "start_time": "2022-04-02T21:04:35.099864",
     "status": "completed"
    },
    "tags": []
   },
   "outputs": [
    {
     "name": "stdout",
     "output_type": "stream",
     "text": [
      "root\n",
      " |-- _c0: string (nullable = true)\n",
      " |-- _c1: string (nullable = true)\n",
      " |-- _c2: string (nullable = true)\n",
      " |-- _c3: string (nullable = true)\n",
      " |-- _c4: string (nullable = true)\n",
      " |-- _c5: string (nullable = true)\n",
      " |-- _c6: string (nullable = true)\n",
      " |-- _c7: string (nullable = true)\n",
      " |-- _c8: string (nullable = true)\n",
      " |-- _c9: string (nullable = true)\n",
      " |-- _c10: string (nullable = true)\n",
      " |-- _c11: string (nullable = true)\n",
      " |-- _c12: string (nullable = true)\n",
      " |-- _c13: string (nullable = true)\n",
      " |-- _c14: string (nullable = true)\n",
      " |-- _c15: string (nullable = true)\n",
      " |-- _c16: string (nullable = true)\n",
      " |-- _c17: string (nullable = true)\n",
      " |-- _c18: string (nullable = true)\n",
      " |-- _c19: string (nullable = true)\n",
      "\n"
     ]
    }
   ],
   "source": [
    "data.printSchema()"
   ]
  },
  {
   "cell_type": "code",
   "execution_count": 21,
   "id": "a4781467",
   "metadata": {
    "execution": {
     "iopub.execute_input": "2022-04-02T21:04:35.536320Z",
     "iopub.status.busy": "2022-04-02T21:04:35.535793Z",
     "iopub.status.idle": "2022-04-02T21:04:38.207127Z",
     "shell.execute_reply": "2022-04-02T21:04:38.206675Z",
     "shell.execute_reply.started": "2022-03-17T18:16:03.859397Z"
    },
    "papermill": {
     "duration": 2.813991,
     "end_time": "2022-04-02T21:04:38.207224",
     "exception": false,
     "start_time": "2022-04-02T21:04:35.393233",
     "status": "completed"
    },
    "tags": []
   },
   "outputs": [
    {
     "name": "stderr",
     "output_type": "stream",
     "text": [
      "                                                                                \r"
     ]
    },
    {
     "data": {
      "text/plain": [
       "DataFrame[summary: string, _c0: string, _c1: string, _c2: string, _c3: string, _c4: string, _c5: string, _c6: string, _c7: string, _c8: string, _c9: string, _c10: string, _c11: string, _c12: string, _c13: string, _c14: string, _c15: string, _c16: string, _c17: string, _c18: string, _c19: string]"
      ]
     },
     "execution_count": 21,
     "metadata": {},
     "output_type": "execute_result"
    }
   ],
   "source": [
    "data.describe()"
   ]
  },
  {
   "cell_type": "code",
   "execution_count": 22,
   "id": "520086c4",
   "metadata": {
    "execution": {
     "iopub.execute_input": "2022-04-02T21:04:38.439438Z",
     "iopub.status.busy": "2022-04-02T21:04:38.438739Z",
     "iopub.status.idle": "2022-04-02T21:04:38.601959Z",
     "shell.execute_reply": "2022-04-02T21:04:38.602334Z",
     "shell.execute_reply.started": "2022-03-17T18:16:14.30527Z"
    },
    "papermill": {
     "duration": 0.280351,
     "end_time": "2022-04-02T21:04:38.602488",
     "exception": false,
     "start_time": "2022-04-02T21:04:38.322137",
     "status": "completed"
    },
    "tags": []
   },
   "outputs": [
    {
     "name": "stdout",
     "output_type": "stream",
     "text": [
      "+-----+--------------+---------+------------------+---------------+--------------------+-----------------+---------------+----------------+-----------------+---------------+----------------+-------------------+-----------------+------------------+------------------+----------------+-----------------+--------------------+-----+\n",
      "|  _c0|           _c1|      _c2|               _c3|            _c4|                 _c5|              _c6|            _c7|             _c8|              _c9|           _c10|            _c11|               _c12|             _c13|              _c14|              _c15|            _c16|             _c17|                _c18| _c19|\n",
      "+-----+--------------+---------+------------------+---------------+--------------------+-----------------+---------------+----------------+-----------------+---------------+----------------+-------------------+-----------------+------------------+------------------+----------------+-----------------+--------------------+-----+\n",
      "|State|Account length|Area code|International plan|Voice mail plan|Number vmail mess...|Total day minutes|Total day calls|Total day charge|Total eve minutes|Total eve calls|Total eve charge|Total night minutes|Total night calls|Total night charge|Total intl minutes|Total intl calls|Total intl charge|Customer service ...|Churn|\n",
      "+-----+--------------+---------+------------------+---------------+--------------------+-----------------+---------------+----------------+-----------------+---------------+----------------+-------------------+-----------------+------------------+------------------+----------------+-----------------+--------------------+-----+\n",
      "only showing top 1 row\n",
      "\n"
     ]
    }
   ],
   "source": [
    "data.show(n=1)"
   ]
  },
  {
   "cell_type": "code",
   "execution_count": 23,
   "id": "29f751d8",
   "metadata": {
    "execution": {
     "iopub.execute_input": "2022-04-02T21:04:38.840861Z",
     "iopub.status.busy": "2022-04-02T21:04:38.840199Z",
     "iopub.status.idle": "2022-04-02T21:04:38.963734Z",
     "shell.execute_reply": "2022-04-02T21:04:38.963130Z",
     "shell.execute_reply.started": "2022-03-17T18:16:24.40471Z"
    },
    "papermill": {
     "duration": 0.245087,
     "end_time": "2022-04-02T21:04:38.963884",
     "exception": false,
     "start_time": "2022-04-02T21:04:38.718797",
     "status": "completed"
    },
    "tags": []
   },
   "outputs": [
    {
     "data": {
      "text/plain": [
       "[Row(_c0='State', _c1='Account length', _c2='Area code', _c3='International plan', _c4='Voice mail plan', _c5='Number vmail messages', _c6='Total day minutes', _c7='Total day calls', _c8='Total day charge', _c9='Total eve minutes', _c10='Total eve calls', _c11='Total eve charge', _c12='Total night minutes', _c13='Total night calls', _c14='Total night charge', _c15='Total intl minutes', _c16='Total intl calls', _c17='Total intl charge', _c18='Customer service calls', _c19='Churn'),\n",
       " Row(_c0='KS', _c1='128', _c2='415', _c3='No', _c4='Yes', _c5='25', _c6='265.1', _c7='110', _c8='45.07', _c9='197.4', _c10='99', _c11='16.78', _c12='244.7', _c13='91', _c14='11.01', _c15='10.0', _c16='3', _c17='2.7', _c18='1', _c19='False'),\n",
       " Row(_c0='OH', _c1='107', _c2='415', _c3='No', _c4='Yes', _c5='26', _c6='161.6', _c7='123', _c8='27.47', _c9='195.5', _c10='103', _c11='16.62', _c12='254.4', _c13='103', _c14='11.45', _c15='13.7', _c16='3', _c17='3.7', _c18='1', _c19='False'),\n",
       " Row(_c0='NJ', _c1='137', _c2='415', _c3='No', _c4='No', _c5='0', _c6='243.4', _c7='114', _c8='41.38', _c9='121.2', _c10='110', _c11='10.3', _c12='162.6', _c13='104', _c14='7.32', _c15='12.2', _c16='5', _c17='3.29', _c18='0', _c19='False'),\n",
       " Row(_c0='OH', _c1='84', _c2='408', _c3='Yes', _c4='No', _c5='0', _c6='299.4', _c7='71', _c8='50.9', _c9='61.9', _c10='88', _c11='5.26', _c12='196.9', _c13='89', _c14='8.86', _c15='6.6', _c16='7', _c17='1.78', _c18='2', _c19='False')]"
      ]
     },
     "execution_count": 23,
     "metadata": {},
     "output_type": "execute_result"
    }
   ],
   "source": [
    "data.take(5)"
   ]
  },
  {
   "cell_type": "code",
   "execution_count": 24,
   "id": "67d78fca",
   "metadata": {
    "execution": {
     "iopub.execute_input": "2022-04-02T21:04:39.235772Z",
     "iopub.status.busy": "2022-04-02T21:04:39.235313Z",
     "iopub.status.idle": "2022-04-02T21:04:39.359927Z",
     "shell.execute_reply": "2022-04-02T21:04:39.359326Z",
     "shell.execute_reply.started": "2022-03-17T18:17:53.947292Z"
    },
    "papermill": {
     "duration": 0.239228,
     "end_time": "2022-04-02T21:04:39.360057",
     "exception": false,
     "start_time": "2022-04-02T21:04:39.120829",
     "status": "completed"
    },
    "tags": []
   },
   "outputs": [
    {
     "name": "stdout",
     "output_type": "stream",
     "text": [
      "+-----+\n",
      "|  _c0|\n",
      "+-----+\n",
      "|State|\n",
      "|   KS|\n",
      "|   OH|\n",
      "|   NJ|\n",
      "|   OH|\n",
      "|   OK|\n",
      "|   AL|\n",
      "|   MA|\n",
      "|   MO|\n",
      "|   WV|\n",
      "|   RI|\n",
      "|   IA|\n",
      "|   MT|\n",
      "|   IA|\n",
      "|   ID|\n",
      "|   VT|\n",
      "|   VA|\n",
      "|   TX|\n",
      "|   FL|\n",
      "|   CO|\n",
      "+-----+\n",
      "only showing top 20 rows\n",
      "\n"
     ]
    }
   ],
   "source": [
    "data.select('_c0').show()"
   ]
  },
  {
   "cell_type": "code",
   "execution_count": 25,
   "id": "d4b686d7",
   "metadata": {
    "execution": {
     "iopub.execute_input": "2022-04-02T21:04:39.665644Z",
     "iopub.status.busy": "2022-04-02T21:04:39.665124Z",
     "iopub.status.idle": "2022-04-02T21:04:39.666907Z",
     "shell.execute_reply": "2022-04-02T21:04:39.667383Z",
     "shell.execute_reply.started": "2022-03-17T18:19:48.490805Z"
    },
    "papermill": {
     "duration": 0.138061,
     "end_time": "2022-04-02T21:04:39.667508",
     "exception": false,
     "start_time": "2022-04-02T21:04:39.529447",
     "status": "completed"
    },
    "tags": []
   },
   "outputs": [],
   "source": [
    "from pyspark.sql.functions import udf\n",
    "from pyspark.sql.types import StringType\n",
    "from pyspark.sql.types import IntegerType\n",
    "from pyspark.sql.functions import desc\n",
    "from pyspark.sql.functions import asc\n",
    "from pyspark.sql.functions import sum as Fsum\n",
    "\n",
    "import datetime\n"
   ]
  },
  {
   "cell_type": "code",
   "execution_count": 26,
   "id": "94852c24",
   "metadata": {
    "execution": {
     "iopub.execute_input": "2022-04-02T21:04:39.898733Z",
     "iopub.status.busy": "2022-04-02T21:04:39.898048Z",
     "iopub.status.idle": "2022-04-02T21:04:40.115534Z",
     "shell.execute_reply": "2022-04-02T21:04:40.114916Z",
     "shell.execute_reply.started": "2022-03-17T18:20:11.530227Z"
    },
    "papermill": {
     "duration": 0.332571,
     "end_time": "2022-04-02T21:04:40.115664",
     "exception": false,
     "start_time": "2022-04-02T21:04:39.783093",
     "status": "completed"
    },
    "tags": []
   },
   "outputs": [
    {
     "data": {
      "text/plain": [
       "2667"
      ]
     },
     "execution_count": 26,
     "metadata": {},
     "output_type": "execute_result"
    }
   ],
   "source": [
    "data.count()"
   ]
  },
  {
   "cell_type": "code",
   "execution_count": 27,
   "id": "5e3760f7",
   "metadata": {
    "execution": {
     "iopub.execute_input": "2022-04-02T21:04:40.374224Z",
     "iopub.status.busy": "2022-04-02T21:04:40.373648Z",
     "iopub.status.idle": "2022-04-02T21:04:40.779913Z",
     "shell.execute_reply": "2022-04-02T21:04:40.780436Z",
     "shell.execute_reply.started": "2022-03-17T18:20:47.408354Z"
    },
    "papermill": {
     "duration": 0.528733,
     "end_time": "2022-04-02T21:04:40.780619",
     "exception": false,
     "start_time": "2022-04-02T21:04:40.251886",
     "status": "completed"
    },
    "tags": []
   },
   "outputs": [
    {
     "name": "stdout",
     "output_type": "stream",
     "text": [
      "+---+\n",
      "|_c0|\n",
      "+---+\n",
      "| AK|\n",
      "| AL|\n",
      "| AR|\n",
      "| AZ|\n",
      "| CA|\n",
      "| CO|\n",
      "| CT|\n",
      "| DC|\n",
      "| DE|\n",
      "| FL|\n",
      "| GA|\n",
      "| HI|\n",
      "| IA|\n",
      "| ID|\n",
      "| IL|\n",
      "| IN|\n",
      "| KS|\n",
      "| KY|\n",
      "| LA|\n",
      "| MA|\n",
      "+---+\n",
      "only showing top 20 rows\n",
      "\n"
     ]
    }
   ],
   "source": [
    "data.select('_c0').dropDuplicates().sort('_c0').show()"
   ]
  },
  {
   "cell_type": "code",
   "execution_count": 28,
   "id": "dea2aaf0",
   "metadata": {
    "execution": {
     "iopub.execute_input": "2022-04-02T21:04:41.054067Z",
     "iopub.status.busy": "2022-04-02T21:04:41.053621Z",
     "iopub.status.idle": "2022-04-02T21:04:41.235674Z",
     "shell.execute_reply": "2022-04-02T21:04:41.235130Z",
     "shell.execute_reply.started": "2022-03-17T18:22:11.151297Z"
    },
    "papermill": {
     "duration": 0.301948,
     "end_time": "2022-04-02T21:04:41.235800",
     "exception": false,
     "start_time": "2022-04-02T21:04:40.933852",
     "status": "completed"
    },
    "tags": []
   },
   "outputs": [
    {
     "data": {
      "text/plain": [
       "[Row(_c1='116', _c2='415'),\n",
       " Row(_c1='151', _c2='415'),\n",
       " Row(_c1='93', _c2='415'),\n",
       " Row(_c1='96', _c2='510'),\n",
       " Row(_c1='113', _c2='415'),\n",
       " Row(_c1='112', _c2='415'),\n",
       " Row(_c1='60', _c2='415'),\n",
       " Row(_c1='72', _c2='408'),\n",
       " Row(_c1='92', _c2='408'),\n",
       " Row(_c1='103', _c2='415'),\n",
       " Row(_c1='37', _c2='415'),\n",
       " Row(_c1='77', _c2='510'),\n",
       " Row(_c1='138', _c2='510'),\n",
       " Row(_c1='120', _c2='510'),\n",
       " Row(_c1='137', _c2='415'),\n",
       " Row(_c1='95', _c2='415'),\n",
       " Row(_c1='105', _c2='415'),\n",
       " Row(_c1='120', _c2='415'),\n",
       " Row(_c1='33', _c2='408'),\n",
       " Row(_c1='112', _c2='415'),\n",
       " Row(_c1='75', _c2='415'),\n",
       " Row(_c1='87', _c2='415'),\n",
       " Row(_c1='185', _c2='408'),\n",
       " Row(_c1='82', _c2='415')]"
      ]
     },
     "execution_count": 28,
     "metadata": {},
     "output_type": "execute_result"
    }
   ],
   "source": [
    "data.select(['_c1', '_c2']).where(data._c0 == 'CA').collect()"
   ]
  },
  {
   "cell_type": "code",
   "execution_count": 29,
   "id": "1bb49afa",
   "metadata": {
    "execution": {
     "iopub.execute_input": "2022-04-02T21:04:41.496075Z",
     "iopub.status.busy": "2022-04-02T21:04:41.495509Z",
     "iopub.status.idle": "2022-04-02T21:04:41.743890Z",
     "shell.execute_reply": "2022-04-02T21:04:41.744723Z",
     "shell.execute_reply.started": "2022-03-17T18:55:09.798826Z"
    },
    "papermill": {
     "duration": 0.367276,
     "end_time": "2022-04-02T21:04:41.744903",
     "exception": false,
     "start_time": "2022-04-02T21:04:41.377627",
     "status": "completed"
    },
    "tags": []
   },
   "outputs": [
    {
     "data": {
      "text/html": [
       "<div>\n",
       "<style scoped>\n",
       "    .dataframe tbody tr th:only-of-type {\n",
       "        vertical-align: middle;\n",
       "    }\n",
       "\n",
       "    .dataframe tbody tr th {\n",
       "        vertical-align: top;\n",
       "    }\n",
       "\n",
       "    .dataframe thead th {\n",
       "        text-align: right;\n",
       "    }\n",
       "</style>\n",
       "<table border=\"1\" class=\"dataframe\">\n",
       "  <thead>\n",
       "    <tr style=\"text-align: right;\">\n",
       "      <th></th>\n",
       "      <th>_c0</th>\n",
       "      <th>_c1</th>\n",
       "      <th>_c2</th>\n",
       "      <th>_c3</th>\n",
       "      <th>_c4</th>\n",
       "      <th>_c5</th>\n",
       "      <th>_c6</th>\n",
       "      <th>_c7</th>\n",
       "      <th>_c8</th>\n",
       "      <th>_c9</th>\n",
       "      <th>_c10</th>\n",
       "      <th>_c11</th>\n",
       "      <th>_c12</th>\n",
       "      <th>_c13</th>\n",
       "      <th>_c14</th>\n",
       "      <th>_c15</th>\n",
       "      <th>_c16</th>\n",
       "      <th>_c17</th>\n",
       "      <th>_c18</th>\n",
       "      <th>_c19</th>\n",
       "    </tr>\n",
       "  </thead>\n",
       "  <tbody>\n",
       "    <tr>\n",
       "      <th>0</th>\n",
       "      <td>State</td>\n",
       "      <td>Account length</td>\n",
       "      <td>Area code</td>\n",
       "      <td>International plan</td>\n",
       "      <td>Voice mail plan</td>\n",
       "      <td>Number vmail messages</td>\n",
       "      <td>Total day minutes</td>\n",
       "      <td>Total day calls</td>\n",
       "      <td>Total day charge</td>\n",
       "      <td>Total eve minutes</td>\n",
       "      <td>Total eve calls</td>\n",
       "      <td>Total eve charge</td>\n",
       "      <td>Total night minutes</td>\n",
       "      <td>Total night calls</td>\n",
       "      <td>Total night charge</td>\n",
       "      <td>Total intl minutes</td>\n",
       "      <td>Total intl calls</td>\n",
       "      <td>Total intl charge</td>\n",
       "      <td>Customer service calls</td>\n",
       "      <td>Churn</td>\n",
       "    </tr>\n",
       "    <tr>\n",
       "      <th>1</th>\n",
       "      <td>KS</td>\n",
       "      <td>128</td>\n",
       "      <td>415</td>\n",
       "      <td>No</td>\n",
       "      <td>Yes</td>\n",
       "      <td>25</td>\n",
       "      <td>265.1</td>\n",
       "      <td>110</td>\n",
       "      <td>45.07</td>\n",
       "      <td>197.4</td>\n",
       "      <td>99</td>\n",
       "      <td>16.78</td>\n",
       "      <td>244.7</td>\n",
       "      <td>91</td>\n",
       "      <td>11.01</td>\n",
       "      <td>10.0</td>\n",
       "      <td>3</td>\n",
       "      <td>2.7</td>\n",
       "      <td>1</td>\n",
       "      <td>False</td>\n",
       "    </tr>\n",
       "    <tr>\n",
       "      <th>2</th>\n",
       "      <td>OH</td>\n",
       "      <td>107</td>\n",
       "      <td>415</td>\n",
       "      <td>No</td>\n",
       "      <td>Yes</td>\n",
       "      <td>26</td>\n",
       "      <td>161.6</td>\n",
       "      <td>123</td>\n",
       "      <td>27.47</td>\n",
       "      <td>195.5</td>\n",
       "      <td>103</td>\n",
       "      <td>16.62</td>\n",
       "      <td>254.4</td>\n",
       "      <td>103</td>\n",
       "      <td>11.45</td>\n",
       "      <td>13.7</td>\n",
       "      <td>3</td>\n",
       "      <td>3.7</td>\n",
       "      <td>1</td>\n",
       "      <td>False</td>\n",
       "    </tr>\n",
       "    <tr>\n",
       "      <th>3</th>\n",
       "      <td>NJ</td>\n",
       "      <td>137</td>\n",
       "      <td>415</td>\n",
       "      <td>No</td>\n",
       "      <td>No</td>\n",
       "      <td>0</td>\n",
       "      <td>243.4</td>\n",
       "      <td>114</td>\n",
       "      <td>41.38</td>\n",
       "      <td>121.2</td>\n",
       "      <td>110</td>\n",
       "      <td>10.3</td>\n",
       "      <td>162.6</td>\n",
       "      <td>104</td>\n",
       "      <td>7.32</td>\n",
       "      <td>12.2</td>\n",
       "      <td>5</td>\n",
       "      <td>3.29</td>\n",
       "      <td>0</td>\n",
       "      <td>False</td>\n",
       "    </tr>\n",
       "    <tr>\n",
       "      <th>4</th>\n",
       "      <td>OH</td>\n",
       "      <td>84</td>\n",
       "      <td>408</td>\n",
       "      <td>Yes</td>\n",
       "      <td>No</td>\n",
       "      <td>0</td>\n",
       "      <td>299.4</td>\n",
       "      <td>71</td>\n",
       "      <td>50.9</td>\n",
       "      <td>61.9</td>\n",
       "      <td>88</td>\n",
       "      <td>5.26</td>\n",
       "      <td>196.9</td>\n",
       "      <td>89</td>\n",
       "      <td>8.86</td>\n",
       "      <td>6.6</td>\n",
       "      <td>7</td>\n",
       "      <td>1.78</td>\n",
       "      <td>2</td>\n",
       "      <td>False</td>\n",
       "    </tr>\n",
       "    <tr>\n",
       "      <th>...</th>\n",
       "      <td>...</td>\n",
       "      <td>...</td>\n",
       "      <td>...</td>\n",
       "      <td>...</td>\n",
       "      <td>...</td>\n",
       "      <td>...</td>\n",
       "      <td>...</td>\n",
       "      <td>...</td>\n",
       "      <td>...</td>\n",
       "      <td>...</td>\n",
       "      <td>...</td>\n",
       "      <td>...</td>\n",
       "      <td>...</td>\n",
       "      <td>...</td>\n",
       "      <td>...</td>\n",
       "      <td>...</td>\n",
       "      <td>...</td>\n",
       "      <td>...</td>\n",
       "      <td>...</td>\n",
       "      <td>...</td>\n",
       "    </tr>\n",
       "    <tr>\n",
       "      <th>2662</th>\n",
       "      <td>SC</td>\n",
       "      <td>79</td>\n",
       "      <td>415</td>\n",
       "      <td>No</td>\n",
       "      <td>No</td>\n",
       "      <td>0</td>\n",
       "      <td>134.7</td>\n",
       "      <td>98</td>\n",
       "      <td>22.9</td>\n",
       "      <td>189.7</td>\n",
       "      <td>68</td>\n",
       "      <td>16.12</td>\n",
       "      <td>221.4</td>\n",
       "      <td>128</td>\n",
       "      <td>9.96</td>\n",
       "      <td>11.8</td>\n",
       "      <td>5</td>\n",
       "      <td>3.19</td>\n",
       "      <td>2</td>\n",
       "      <td>False</td>\n",
       "    </tr>\n",
       "    <tr>\n",
       "      <th>2663</th>\n",
       "      <td>AZ</td>\n",
       "      <td>192</td>\n",
       "      <td>415</td>\n",
       "      <td>No</td>\n",
       "      <td>Yes</td>\n",
       "      <td>36</td>\n",
       "      <td>156.2</td>\n",
       "      <td>77</td>\n",
       "      <td>26.55</td>\n",
       "      <td>215.5</td>\n",
       "      <td>126</td>\n",
       "      <td>18.32</td>\n",
       "      <td>279.1</td>\n",
       "      <td>83</td>\n",
       "      <td>12.56</td>\n",
       "      <td>9.9</td>\n",
       "      <td>6</td>\n",
       "      <td>2.67</td>\n",
       "      <td>2</td>\n",
       "      <td>False</td>\n",
       "    </tr>\n",
       "    <tr>\n",
       "      <th>2664</th>\n",
       "      <td>WV</td>\n",
       "      <td>68</td>\n",
       "      <td>415</td>\n",
       "      <td>No</td>\n",
       "      <td>No</td>\n",
       "      <td>0</td>\n",
       "      <td>231.1</td>\n",
       "      <td>57</td>\n",
       "      <td>39.29</td>\n",
       "      <td>153.4</td>\n",
       "      <td>55</td>\n",
       "      <td>13.04</td>\n",
       "      <td>191.3</td>\n",
       "      <td>123</td>\n",
       "      <td>8.61</td>\n",
       "      <td>9.6</td>\n",
       "      <td>4</td>\n",
       "      <td>2.59</td>\n",
       "      <td>3</td>\n",
       "      <td>False</td>\n",
       "    </tr>\n",
       "    <tr>\n",
       "      <th>2665</th>\n",
       "      <td>RI</td>\n",
       "      <td>28</td>\n",
       "      <td>510</td>\n",
       "      <td>No</td>\n",
       "      <td>No</td>\n",
       "      <td>0</td>\n",
       "      <td>180.8</td>\n",
       "      <td>109</td>\n",
       "      <td>30.74</td>\n",
       "      <td>288.8</td>\n",
       "      <td>58</td>\n",
       "      <td>24.55</td>\n",
       "      <td>191.9</td>\n",
       "      <td>91</td>\n",
       "      <td>8.64</td>\n",
       "      <td>14.1</td>\n",
       "      <td>6</td>\n",
       "      <td>3.81</td>\n",
       "      <td>2</td>\n",
       "      <td>False</td>\n",
       "    </tr>\n",
       "    <tr>\n",
       "      <th>2666</th>\n",
       "      <td>TN</td>\n",
       "      <td>74</td>\n",
       "      <td>415</td>\n",
       "      <td>No</td>\n",
       "      <td>Yes</td>\n",
       "      <td>25</td>\n",
       "      <td>234.4</td>\n",
       "      <td>113</td>\n",
       "      <td>39.85</td>\n",
       "      <td>265.9</td>\n",
       "      <td>82</td>\n",
       "      <td>22.6</td>\n",
       "      <td>241.4</td>\n",
       "      <td>77</td>\n",
       "      <td>10.86</td>\n",
       "      <td>13.7</td>\n",
       "      <td>4</td>\n",
       "      <td>3.7</td>\n",
       "      <td>0</td>\n",
       "      <td>False</td>\n",
       "    </tr>\n",
       "  </tbody>\n",
       "</table>\n",
       "<p>2667 rows × 20 columns</p>\n",
       "</div>"
      ],
      "text/plain": [
       "        _c0             _c1        _c2                 _c3              _c4  \\\n",
       "0     State  Account length  Area code  International plan  Voice mail plan   \n",
       "1        KS             128        415                  No              Yes   \n",
       "2        OH             107        415                  No              Yes   \n",
       "3        NJ             137        415                  No               No   \n",
       "4        OH              84        408                 Yes               No   \n",
       "...     ...             ...        ...                 ...              ...   \n",
       "2662     SC              79        415                  No               No   \n",
       "2663     AZ             192        415                  No              Yes   \n",
       "2664     WV              68        415                  No               No   \n",
       "2665     RI              28        510                  No               No   \n",
       "2666     TN              74        415                  No              Yes   \n",
       "\n",
       "                        _c5                _c6              _c7  \\\n",
       "0     Number vmail messages  Total day minutes  Total day calls   \n",
       "1                        25              265.1              110   \n",
       "2                        26              161.6              123   \n",
       "3                         0              243.4              114   \n",
       "4                         0              299.4               71   \n",
       "...                     ...                ...              ...   \n",
       "2662                      0              134.7               98   \n",
       "2663                     36              156.2               77   \n",
       "2664                      0              231.1               57   \n",
       "2665                      0              180.8              109   \n",
       "2666                     25              234.4              113   \n",
       "\n",
       "                   _c8                _c9             _c10              _c11  \\\n",
       "0     Total day charge  Total eve minutes  Total eve calls  Total eve charge   \n",
       "1                45.07              197.4               99             16.78   \n",
       "2                27.47              195.5              103             16.62   \n",
       "3                41.38              121.2              110              10.3   \n",
       "4                 50.9               61.9               88              5.26   \n",
       "...                ...                ...              ...               ...   \n",
       "2662              22.9              189.7               68             16.12   \n",
       "2663             26.55              215.5              126             18.32   \n",
       "2664             39.29              153.4               55             13.04   \n",
       "2665             30.74              288.8               58             24.55   \n",
       "2666             39.85              265.9               82              22.6   \n",
       "\n",
       "                     _c12               _c13                _c14  \\\n",
       "0     Total night minutes  Total night calls  Total night charge   \n",
       "1                   244.7                 91               11.01   \n",
       "2                   254.4                103               11.45   \n",
       "3                   162.6                104                7.32   \n",
       "4                   196.9                 89                8.86   \n",
       "...                   ...                ...                 ...   \n",
       "2662                221.4                128                9.96   \n",
       "2663                279.1                 83               12.56   \n",
       "2664                191.3                123                8.61   \n",
       "2665                191.9                 91                8.64   \n",
       "2666                241.4                 77               10.86   \n",
       "\n",
       "                    _c15              _c16               _c17  \\\n",
       "0     Total intl minutes  Total intl calls  Total intl charge   \n",
       "1                   10.0                 3                2.7   \n",
       "2                   13.7                 3                3.7   \n",
       "3                   12.2                 5               3.29   \n",
       "4                    6.6                 7               1.78   \n",
       "...                  ...               ...                ...   \n",
       "2662                11.8                 5               3.19   \n",
       "2663                 9.9                 6               2.67   \n",
       "2664                 9.6                 4               2.59   \n",
       "2665                14.1                 6               3.81   \n",
       "2666                13.7                 4                3.7   \n",
       "\n",
       "                        _c18   _c19  \n",
       "0     Customer service calls  Churn  \n",
       "1                          1  False  \n",
       "2                          1  False  \n",
       "3                          0  False  \n",
       "4                          2  False  \n",
       "...                      ...    ...  \n",
       "2662                       2  False  \n",
       "2663                       2  False  \n",
       "2664                       3  False  \n",
       "2665                       2  False  \n",
       "2666                       0  False  \n",
       "\n",
       "[2667 rows x 20 columns]"
      ]
     },
     "execution_count": 29,
     "metadata": {},
     "output_type": "execute_result"
    }
   ],
   "source": [
    "data.toPandas()"
   ]
  },
  {
   "cell_type": "code",
   "execution_count": null,
   "id": "1dfbab92",
   "metadata": {
    "papermill": {
     "duration": 0.115557,
     "end_time": "2022-04-02T21:04:41.991611",
     "exception": false,
     "start_time": "2022-04-02T21:04:41.876054",
     "status": "completed"
    },
    "tags": []
   },
   "outputs": [],
   "source": []
  }
 ],
 "metadata": {
  "kernelspec": {
   "display_name": "Python 3",
   "language": "python",
   "name": "python3"
  },
  "language_info": {
   "codemirror_mode": {
    "name": "ipython",
    "version": 3
   },
   "file_extension": ".py",
   "mimetype": "text/x-python",
   "name": "python",
   "nbconvert_exporter": "python",
   "pygments_lexer": "ipython3",
   "version": "3.7.12"
  },
  "papermill": {
   "default_parameters": {},
   "duration": 64.699932,
   "end_time": "2022-04-02T21:04:42.748059",
   "environment_variables": {},
   "exception": null,
   "input_path": "__notebook__.ipynb",
   "output_path": "__notebook__.ipynb",
   "parameters": {},
   "start_time": "2022-04-02T21:03:38.048127",
   "version": "2.3.3"
  }
 },
 "nbformat": 4,
 "nbformat_minor": 5
}
